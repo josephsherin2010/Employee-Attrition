{
 "cells": [
  {
   "cell_type": "raw",
   "id": "4f4038e2",
   "metadata": {},
   "source": [
    "The project deals with the employee attrition in a company. The company uses the observational data to analyse and interpret departments in which highest attrition occurs. They would like to know which category of employees are more subjected to attrition. Moreover, the company also tries to figure out the reasons for attrition. \n",
    "\n",
    "The dataset consists of 4410 observations and 24 columns. \n",
    "\n",
    "The description of columns is as follows.\n",
    "•\tAge : Age of the employees\n",
    "•\tAttrition : Status of employees subjected to attrition or not\n",
    "•\tBusinessTravel : Whether the employee have done business travel\n",
    "•\tDepartment : Department of employee\n",
    "•\tDistanceFromHome : Distance for employees’ home to company\n",
    "•\tEducation : Education of employees\n",
    "•\tEducationField : Field of employee education\n",
    "•\tEmployeeID : Unique ID of employee\n",
    "•\tGender : Gender of employee\n",
    "•\tJobLevel : Level of job\n",
    "•\tJobRole : Job role of employee\n",
    "•\tMaritalStatus :  Marital status of employee\n",
    "•\tYearlyIncome : Annual income\n",
    "•\tNumCompaniesWorked : Number of companies worked\n",
    "•\tPercentSalaryHike : Previous salary hike percentage\n",
    "•\tStockOptionLevel : Level of stock in the company share\n",
    "•\tTotalWorkingYears : Total number of working years\n",
    "•\tTrainingTimesLastYear : Number of trainings attended last year\n",
    "•\tYearsAtCompany : Number of working years with the company\n",
    "•\tYearsSinceLastPromotion : Number of years since last promotion\n",
    "•\tYearsWithCurrManager : Number of years under same manager\n"
   ]
  },
  {
   "cell_type": "code",
   "execution_count": 1,
   "id": "c73fb0a2",
   "metadata": {},
   "outputs": [],
   "source": [
    "#Import the dataset\n",
    "\n",
    "import pandas as pd\n",
    "import numpy as np\n",
    "import matplotlib.pyplot as plt\n",
    "import seaborn as sns\n",
    "import warnings\n",
    "warnings.filterwarnings('ignore')\n",
    "%matplotlib inline\n",
    "\n",
    "data = pd.read_csv('Employee_Attrition_Data.csv')"
   ]
  },
  {
   "cell_type": "code",
   "execution_count": 2,
   "id": "afeffce5",
   "metadata": {},
   "outputs": [
    {
     "data": {
      "text/html": [
       "<div>\n",
       "<style scoped>\n",
       "    .dataframe tbody tr th:only-of-type {\n",
       "        vertical-align: middle;\n",
       "    }\n",
       "\n",
       "    .dataframe tbody tr th {\n",
       "        vertical-align: top;\n",
       "    }\n",
       "\n",
       "    .dataframe thead th {\n",
       "        text-align: right;\n",
       "    }\n",
       "</style>\n",
       "<table border=\"1\" class=\"dataframe\">\n",
       "  <thead>\n",
       "    <tr style=\"text-align: right;\">\n",
       "      <th></th>\n",
       "      <th>Age</th>\n",
       "      <th>Attrition</th>\n",
       "      <th>BusinessTravel</th>\n",
       "      <th>Department</th>\n",
       "      <th>DistanceFromHome</th>\n",
       "      <th>Education</th>\n",
       "      <th>EducationField</th>\n",
       "      <th>EmployeeCount</th>\n",
       "      <th>EmployeeID</th>\n",
       "      <th>Gender</th>\n",
       "      <th>...</th>\n",
       "      <th>NumCompaniesWorked</th>\n",
       "      <th>Over18</th>\n",
       "      <th>PercentSalaryHike</th>\n",
       "      <th>StandardHours</th>\n",
       "      <th>StockOptionLevel</th>\n",
       "      <th>TotalWorkingYears</th>\n",
       "      <th>TrainingTimesLastYear</th>\n",
       "      <th>YearsAtCompany</th>\n",
       "      <th>YearsSinceLastPromotion</th>\n",
       "      <th>YearsWithCurrManager</th>\n",
       "    </tr>\n",
       "  </thead>\n",
       "  <tbody>\n",
       "    <tr>\n",
       "      <th>0</th>\n",
       "      <td>51</td>\n",
       "      <td>No</td>\n",
       "      <td>Travel_Rarely</td>\n",
       "      <td>Sales</td>\n",
       "      <td>6</td>\n",
       "      <td>2</td>\n",
       "      <td>Life Sciences</td>\n",
       "      <td>1</td>\n",
       "      <td>1</td>\n",
       "      <td>Female</td>\n",
       "      <td>...</td>\n",
       "      <td>1.0</td>\n",
       "      <td>Y</td>\n",
       "      <td>11</td>\n",
       "      <td>8</td>\n",
       "      <td>0</td>\n",
       "      <td>1.0</td>\n",
       "      <td>6</td>\n",
       "      <td>1</td>\n",
       "      <td>0</td>\n",
       "      <td>0</td>\n",
       "    </tr>\n",
       "    <tr>\n",
       "      <th>1</th>\n",
       "      <td>31</td>\n",
       "      <td>Yes</td>\n",
       "      <td>Travel_Frequently</td>\n",
       "      <td>Research &amp; Development</td>\n",
       "      <td>10</td>\n",
       "      <td>1</td>\n",
       "      <td>Life Sciences</td>\n",
       "      <td>1</td>\n",
       "      <td>2</td>\n",
       "      <td>Female</td>\n",
       "      <td>...</td>\n",
       "      <td>0.0</td>\n",
       "      <td>Y</td>\n",
       "      <td>23</td>\n",
       "      <td>8</td>\n",
       "      <td>1</td>\n",
       "      <td>6.0</td>\n",
       "      <td>3</td>\n",
       "      <td>5</td>\n",
       "      <td>1</td>\n",
       "      <td>4</td>\n",
       "    </tr>\n",
       "    <tr>\n",
       "      <th>2</th>\n",
       "      <td>32</td>\n",
       "      <td>No</td>\n",
       "      <td>Travel_Frequently</td>\n",
       "      <td>Research &amp; Development</td>\n",
       "      <td>17</td>\n",
       "      <td>4</td>\n",
       "      <td>Other</td>\n",
       "      <td>1</td>\n",
       "      <td>3</td>\n",
       "      <td>Male</td>\n",
       "      <td>...</td>\n",
       "      <td>1.0</td>\n",
       "      <td>Y</td>\n",
       "      <td>15</td>\n",
       "      <td>8</td>\n",
       "      <td>3</td>\n",
       "      <td>5.0</td>\n",
       "      <td>2</td>\n",
       "      <td>5</td>\n",
       "      <td>0</td>\n",
       "      <td>3</td>\n",
       "    </tr>\n",
       "    <tr>\n",
       "      <th>3</th>\n",
       "      <td>38</td>\n",
       "      <td>No</td>\n",
       "      <td>Non-Travel</td>\n",
       "      <td>Research &amp; Development</td>\n",
       "      <td>2</td>\n",
       "      <td>5</td>\n",
       "      <td>Life Sciences</td>\n",
       "      <td>1</td>\n",
       "      <td>4</td>\n",
       "      <td>Male</td>\n",
       "      <td>...</td>\n",
       "      <td>3.0</td>\n",
       "      <td>Y</td>\n",
       "      <td>11</td>\n",
       "      <td>8</td>\n",
       "      <td>3</td>\n",
       "      <td>13.0</td>\n",
       "      <td>5</td>\n",
       "      <td>8</td>\n",
       "      <td>7</td>\n",
       "      <td>5</td>\n",
       "    </tr>\n",
       "    <tr>\n",
       "      <th>4</th>\n",
       "      <td>32</td>\n",
       "      <td>No</td>\n",
       "      <td>Travel_Rarely</td>\n",
       "      <td>Research &amp; Development</td>\n",
       "      <td>10</td>\n",
       "      <td>1</td>\n",
       "      <td>Medical</td>\n",
       "      <td>1</td>\n",
       "      <td>5</td>\n",
       "      <td>Male</td>\n",
       "      <td>...</td>\n",
       "      <td>4.0</td>\n",
       "      <td>Y</td>\n",
       "      <td>12</td>\n",
       "      <td>8</td>\n",
       "      <td>2</td>\n",
       "      <td>9.0</td>\n",
       "      <td>2</td>\n",
       "      <td>6</td>\n",
       "      <td>0</td>\n",
       "      <td>4</td>\n",
       "    </tr>\n",
       "    <tr>\n",
       "      <th>5</th>\n",
       "      <td>46</td>\n",
       "      <td>No</td>\n",
       "      <td>Travel_Rarely</td>\n",
       "      <td>Research &amp; Development</td>\n",
       "      <td>8</td>\n",
       "      <td>3</td>\n",
       "      <td>Life Sciences</td>\n",
       "      <td>1</td>\n",
       "      <td>6</td>\n",
       "      <td>Female</td>\n",
       "      <td>...</td>\n",
       "      <td>3.0</td>\n",
       "      <td>Y</td>\n",
       "      <td>13</td>\n",
       "      <td>8</td>\n",
       "      <td>0</td>\n",
       "      <td>28.0</td>\n",
       "      <td>5</td>\n",
       "      <td>7</td>\n",
       "      <td>7</td>\n",
       "      <td>7</td>\n",
       "    </tr>\n",
       "    <tr>\n",
       "      <th>6</th>\n",
       "      <td>28</td>\n",
       "      <td>Yes</td>\n",
       "      <td>Travel_Rarely</td>\n",
       "      <td>Research &amp; Development</td>\n",
       "      <td>11</td>\n",
       "      <td>2</td>\n",
       "      <td>Medical</td>\n",
       "      <td>1</td>\n",
       "      <td>7</td>\n",
       "      <td>Male</td>\n",
       "      <td>...</td>\n",
       "      <td>2.0</td>\n",
       "      <td>Y</td>\n",
       "      <td>20</td>\n",
       "      <td>8</td>\n",
       "      <td>1</td>\n",
       "      <td>5.0</td>\n",
       "      <td>2</td>\n",
       "      <td>0</td>\n",
       "      <td>0</td>\n",
       "      <td>0</td>\n",
       "    </tr>\n",
       "    <tr>\n",
       "      <th>7</th>\n",
       "      <td>29</td>\n",
       "      <td>No</td>\n",
       "      <td>Travel_Rarely</td>\n",
       "      <td>Research &amp; Development</td>\n",
       "      <td>18</td>\n",
       "      <td>3</td>\n",
       "      <td>Life Sciences</td>\n",
       "      <td>1</td>\n",
       "      <td>8</td>\n",
       "      <td>Male</td>\n",
       "      <td>...</td>\n",
       "      <td>2.0</td>\n",
       "      <td>Y</td>\n",
       "      <td>22</td>\n",
       "      <td>8</td>\n",
       "      <td>3</td>\n",
       "      <td>10.0</td>\n",
       "      <td>2</td>\n",
       "      <td>0</td>\n",
       "      <td>0</td>\n",
       "      <td>0</td>\n",
       "    </tr>\n",
       "    <tr>\n",
       "      <th>8</th>\n",
       "      <td>31</td>\n",
       "      <td>No</td>\n",
       "      <td>Travel_Rarely</td>\n",
       "      <td>Research &amp; Development</td>\n",
       "      <td>1</td>\n",
       "      <td>3</td>\n",
       "      <td>Life Sciences</td>\n",
       "      <td>1</td>\n",
       "      <td>9</td>\n",
       "      <td>Male</td>\n",
       "      <td>...</td>\n",
       "      <td>0.0</td>\n",
       "      <td>Y</td>\n",
       "      <td>21</td>\n",
       "      <td>8</td>\n",
       "      <td>0</td>\n",
       "      <td>10.0</td>\n",
       "      <td>2</td>\n",
       "      <td>9</td>\n",
       "      <td>7</td>\n",
       "      <td>8</td>\n",
       "    </tr>\n",
       "    <tr>\n",
       "      <th>9</th>\n",
       "      <td>25</td>\n",
       "      <td>No</td>\n",
       "      <td>Non-Travel</td>\n",
       "      <td>Research &amp; Development</td>\n",
       "      <td>7</td>\n",
       "      <td>4</td>\n",
       "      <td>Medical</td>\n",
       "      <td>1</td>\n",
       "      <td>10</td>\n",
       "      <td>Female</td>\n",
       "      <td>...</td>\n",
       "      <td>1.0</td>\n",
       "      <td>Y</td>\n",
       "      <td>13</td>\n",
       "      <td>8</td>\n",
       "      <td>1</td>\n",
       "      <td>6.0</td>\n",
       "      <td>2</td>\n",
       "      <td>6</td>\n",
       "      <td>1</td>\n",
       "      <td>5</td>\n",
       "    </tr>\n",
       "  </tbody>\n",
       "</table>\n",
       "<p>10 rows × 24 columns</p>\n",
       "</div>"
      ],
      "text/plain": [
       "   Age Attrition     BusinessTravel              Department  DistanceFromHome  \\\n",
       "0   51        No      Travel_Rarely                   Sales                 6   \n",
       "1   31       Yes  Travel_Frequently  Research & Development                10   \n",
       "2   32        No  Travel_Frequently  Research & Development                17   \n",
       "3   38        No         Non-Travel  Research & Development                 2   \n",
       "4   32        No      Travel_Rarely  Research & Development                10   \n",
       "5   46        No      Travel_Rarely  Research & Development                 8   \n",
       "6   28       Yes      Travel_Rarely  Research & Development                11   \n",
       "7   29        No      Travel_Rarely  Research & Development                18   \n",
       "8   31        No      Travel_Rarely  Research & Development                 1   \n",
       "9   25        No         Non-Travel  Research & Development                 7   \n",
       "\n",
       "   Education EducationField  EmployeeCount  EmployeeID  Gender  ...  \\\n",
       "0          2  Life Sciences              1           1  Female  ...   \n",
       "1          1  Life Sciences              1           2  Female  ...   \n",
       "2          4          Other              1           3    Male  ...   \n",
       "3          5  Life Sciences              1           4    Male  ...   \n",
       "4          1        Medical              1           5    Male  ...   \n",
       "5          3  Life Sciences              1           6  Female  ...   \n",
       "6          2        Medical              1           7    Male  ...   \n",
       "7          3  Life Sciences              1           8    Male  ...   \n",
       "8          3  Life Sciences              1           9    Male  ...   \n",
       "9          4        Medical              1          10  Female  ...   \n",
       "\n",
       "   NumCompaniesWorked Over18 PercentSalaryHike  StandardHours  \\\n",
       "0                 1.0      Y                11              8   \n",
       "1                 0.0      Y                23              8   \n",
       "2                 1.0      Y                15              8   \n",
       "3                 3.0      Y                11              8   \n",
       "4                 4.0      Y                12              8   \n",
       "5                 3.0      Y                13              8   \n",
       "6                 2.0      Y                20              8   \n",
       "7                 2.0      Y                22              8   \n",
       "8                 0.0      Y                21              8   \n",
       "9                 1.0      Y                13              8   \n",
       "\n",
       "   StockOptionLevel TotalWorkingYears  TrainingTimesLastYear  YearsAtCompany  \\\n",
       "0                 0               1.0                      6               1   \n",
       "1                 1               6.0                      3               5   \n",
       "2                 3               5.0                      2               5   \n",
       "3                 3              13.0                      5               8   \n",
       "4                 2               9.0                      2               6   \n",
       "5                 0              28.0                      5               7   \n",
       "6                 1               5.0                      2               0   \n",
       "7                 3              10.0                      2               0   \n",
       "8                 0              10.0                      2               9   \n",
       "9                 1               6.0                      2               6   \n",
       "\n",
       "   YearsSinceLastPromotion  YearsWithCurrManager  \n",
       "0                        0                     0  \n",
       "1                        1                     4  \n",
       "2                        0                     3  \n",
       "3                        7                     5  \n",
       "4                        0                     4  \n",
       "5                        7                     7  \n",
       "6                        0                     0  \n",
       "7                        0                     0  \n",
       "8                        7                     8  \n",
       "9                        1                     5  \n",
       "\n",
       "[10 rows x 24 columns]"
      ]
     },
     "execution_count": 2,
     "metadata": {},
     "output_type": "execute_result"
    }
   ],
   "source": [
    "data.head(10)"
   ]
  },
  {
   "cell_type": "code",
   "execution_count": 3,
   "id": "a9c6d644",
   "metadata": {},
   "outputs": [
    {
     "data": {
      "text/html": [
       "<div>\n",
       "<style scoped>\n",
       "    .dataframe tbody tr th:only-of-type {\n",
       "        vertical-align: middle;\n",
       "    }\n",
       "\n",
       "    .dataframe tbody tr th {\n",
       "        vertical-align: top;\n",
       "    }\n",
       "\n",
       "    .dataframe thead th {\n",
       "        text-align: right;\n",
       "    }\n",
       "</style>\n",
       "<table border=\"1\" class=\"dataframe\">\n",
       "  <thead>\n",
       "    <tr style=\"text-align: right;\">\n",
       "      <th></th>\n",
       "      <th>Age</th>\n",
       "      <th>Attrition</th>\n",
       "      <th>BusinessTravel</th>\n",
       "      <th>Department</th>\n",
       "      <th>DistanceFromHome</th>\n",
       "      <th>Education</th>\n",
       "      <th>EducationField</th>\n",
       "      <th>EmployeeCount</th>\n",
       "      <th>EmployeeID</th>\n",
       "      <th>Gender</th>\n",
       "      <th>...</th>\n",
       "      <th>NumCompaniesWorked</th>\n",
       "      <th>Over18</th>\n",
       "      <th>PercentSalaryHike</th>\n",
       "      <th>StandardHours</th>\n",
       "      <th>StockOptionLevel</th>\n",
       "      <th>TotalWorkingYears</th>\n",
       "      <th>TrainingTimesLastYear</th>\n",
       "      <th>YearsAtCompany</th>\n",
       "      <th>YearsSinceLastPromotion</th>\n",
       "      <th>YearsWithCurrManager</th>\n",
       "    </tr>\n",
       "  </thead>\n",
       "  <tbody>\n",
       "    <tr>\n",
       "      <th>4405</th>\n",
       "      <td>42</td>\n",
       "      <td>No</td>\n",
       "      <td>Travel_Rarely</td>\n",
       "      <td>Research &amp; Development</td>\n",
       "      <td>5</td>\n",
       "      <td>4</td>\n",
       "      <td>Medical</td>\n",
       "      <td>1</td>\n",
       "      <td>4406</td>\n",
       "      <td>Female</td>\n",
       "      <td>...</td>\n",
       "      <td>3.0</td>\n",
       "      <td>Y</td>\n",
       "      <td>17</td>\n",
       "      <td>8</td>\n",
       "      <td>1</td>\n",
       "      <td>10.0</td>\n",
       "      <td>5</td>\n",
       "      <td>3</td>\n",
       "      <td>0</td>\n",
       "      <td>2</td>\n",
       "    </tr>\n",
       "    <tr>\n",
       "      <th>4406</th>\n",
       "      <td>29</td>\n",
       "      <td>No</td>\n",
       "      <td>Travel_Rarely</td>\n",
       "      <td>Research &amp; Development</td>\n",
       "      <td>2</td>\n",
       "      <td>4</td>\n",
       "      <td>Medical</td>\n",
       "      <td>1</td>\n",
       "      <td>4407</td>\n",
       "      <td>Male</td>\n",
       "      <td>...</td>\n",
       "      <td>2.0</td>\n",
       "      <td>Y</td>\n",
       "      <td>15</td>\n",
       "      <td>8</td>\n",
       "      <td>0</td>\n",
       "      <td>10.0</td>\n",
       "      <td>2</td>\n",
       "      <td>3</td>\n",
       "      <td>0</td>\n",
       "      <td>2</td>\n",
       "    </tr>\n",
       "    <tr>\n",
       "      <th>4407</th>\n",
       "      <td>25</td>\n",
       "      <td>No</td>\n",
       "      <td>Travel_Rarely</td>\n",
       "      <td>Research &amp; Development</td>\n",
       "      <td>25</td>\n",
       "      <td>2</td>\n",
       "      <td>Life Sciences</td>\n",
       "      <td>1</td>\n",
       "      <td>4408</td>\n",
       "      <td>Male</td>\n",
       "      <td>...</td>\n",
       "      <td>0.0</td>\n",
       "      <td>Y</td>\n",
       "      <td>20</td>\n",
       "      <td>8</td>\n",
       "      <td>0</td>\n",
       "      <td>5.0</td>\n",
       "      <td>4</td>\n",
       "      <td>4</td>\n",
       "      <td>1</td>\n",
       "      <td>2</td>\n",
       "    </tr>\n",
       "    <tr>\n",
       "      <th>4408</th>\n",
       "      <td>42</td>\n",
       "      <td>No</td>\n",
       "      <td>Travel_Rarely</td>\n",
       "      <td>Sales</td>\n",
       "      <td>18</td>\n",
       "      <td>2</td>\n",
       "      <td>Medical</td>\n",
       "      <td>1</td>\n",
       "      <td>4409</td>\n",
       "      <td>Male</td>\n",
       "      <td>...</td>\n",
       "      <td>0.0</td>\n",
       "      <td>Y</td>\n",
       "      <td>14</td>\n",
       "      <td>8</td>\n",
       "      <td>1</td>\n",
       "      <td>10.0</td>\n",
       "      <td>2</td>\n",
       "      <td>9</td>\n",
       "      <td>7</td>\n",
       "      <td>8</td>\n",
       "    </tr>\n",
       "    <tr>\n",
       "      <th>4409</th>\n",
       "      <td>40</td>\n",
       "      <td>No</td>\n",
       "      <td>Travel_Rarely</td>\n",
       "      <td>Research &amp; Development</td>\n",
       "      <td>28</td>\n",
       "      <td>3</td>\n",
       "      <td>Medical</td>\n",
       "      <td>1</td>\n",
       "      <td>4410</td>\n",
       "      <td>Male</td>\n",
       "      <td>...</td>\n",
       "      <td>0.0</td>\n",
       "      <td>Y</td>\n",
       "      <td>12</td>\n",
       "      <td>8</td>\n",
       "      <td>0</td>\n",
       "      <td>NaN</td>\n",
       "      <td>6</td>\n",
       "      <td>21</td>\n",
       "      <td>3</td>\n",
       "      <td>9</td>\n",
       "    </tr>\n",
       "  </tbody>\n",
       "</table>\n",
       "<p>5 rows × 24 columns</p>\n",
       "</div>"
      ],
      "text/plain": [
       "      Age Attrition BusinessTravel              Department  DistanceFromHome  \\\n",
       "4405   42        No  Travel_Rarely  Research & Development                 5   \n",
       "4406   29        No  Travel_Rarely  Research & Development                 2   \n",
       "4407   25        No  Travel_Rarely  Research & Development                25   \n",
       "4408   42        No  Travel_Rarely                   Sales                18   \n",
       "4409   40        No  Travel_Rarely  Research & Development                28   \n",
       "\n",
       "      Education EducationField  EmployeeCount  EmployeeID  Gender  ...  \\\n",
       "4405          4        Medical              1        4406  Female  ...   \n",
       "4406          4        Medical              1        4407    Male  ...   \n",
       "4407          2  Life Sciences              1        4408    Male  ...   \n",
       "4408          2        Medical              1        4409    Male  ...   \n",
       "4409          3        Medical              1        4410    Male  ...   \n",
       "\n",
       "      NumCompaniesWorked Over18 PercentSalaryHike  StandardHours  \\\n",
       "4405                 3.0      Y                17              8   \n",
       "4406                 2.0      Y                15              8   \n",
       "4407                 0.0      Y                20              8   \n",
       "4408                 0.0      Y                14              8   \n",
       "4409                 0.0      Y                12              8   \n",
       "\n",
       "      StockOptionLevel TotalWorkingYears  TrainingTimesLastYear  \\\n",
       "4405                 1              10.0                      5   \n",
       "4406                 0              10.0                      2   \n",
       "4407                 0               5.0                      4   \n",
       "4408                 1              10.0                      2   \n",
       "4409                 0               NaN                      6   \n",
       "\n",
       "      YearsAtCompany  YearsSinceLastPromotion  YearsWithCurrManager  \n",
       "4405               3                        0                     2  \n",
       "4406               3                        0                     2  \n",
       "4407               4                        1                     2  \n",
       "4408               9                        7                     8  \n",
       "4409              21                        3                     9  \n",
       "\n",
       "[5 rows x 24 columns]"
      ]
     },
     "execution_count": 3,
     "metadata": {},
     "output_type": "execute_result"
    }
   ],
   "source": [
    "data.tail(5)"
   ]
  },
  {
   "cell_type": "code",
   "execution_count": 4,
   "id": "2d59c45a",
   "metadata": {},
   "outputs": [
    {
     "data": {
      "text/plain": [
       "(4410, 24)"
      ]
     },
     "execution_count": 4,
     "metadata": {},
     "output_type": "execute_result"
    }
   ],
   "source": [
    "data.shape"
   ]
  },
  {
   "cell_type": "code",
   "execution_count": 5,
   "id": "518080d4",
   "metadata": {},
   "outputs": [
    {
     "data": {
      "text/html": [
       "<div>\n",
       "<style scoped>\n",
       "    .dataframe tbody tr th:only-of-type {\n",
       "        vertical-align: middle;\n",
       "    }\n",
       "\n",
       "    .dataframe tbody tr th {\n",
       "        vertical-align: top;\n",
       "    }\n",
       "\n",
       "    .dataframe thead th {\n",
       "        text-align: right;\n",
       "    }\n",
       "</style>\n",
       "<table border=\"1\" class=\"dataframe\">\n",
       "  <thead>\n",
       "    <tr style=\"text-align: right;\">\n",
       "      <th></th>\n",
       "      <th>Age</th>\n",
       "      <th>DistanceFromHome</th>\n",
       "      <th>Education</th>\n",
       "      <th>EmployeeCount</th>\n",
       "      <th>EmployeeID</th>\n",
       "      <th>JobLevel</th>\n",
       "      <th>YearlyIncome</th>\n",
       "      <th>NumCompaniesWorked</th>\n",
       "      <th>PercentSalaryHike</th>\n",
       "      <th>StandardHours</th>\n",
       "      <th>StockOptionLevel</th>\n",
       "      <th>TotalWorkingYears</th>\n",
       "      <th>TrainingTimesLastYear</th>\n",
       "      <th>YearsAtCompany</th>\n",
       "      <th>YearsSinceLastPromotion</th>\n",
       "      <th>YearsWithCurrManager</th>\n",
       "    </tr>\n",
       "  </thead>\n",
       "  <tbody>\n",
       "    <tr>\n",
       "      <th>count</th>\n",
       "      <td>4410.000000</td>\n",
       "      <td>4410.000000</td>\n",
       "      <td>4410.000000</td>\n",
       "      <td>4410.0</td>\n",
       "      <td>4410.000000</td>\n",
       "      <td>4410.000000</td>\n",
       "      <td>4410.000000</td>\n",
       "      <td>4391.000000</td>\n",
       "      <td>4410.000000</td>\n",
       "      <td>4410.0</td>\n",
       "      <td>4410.000000</td>\n",
       "      <td>4401.000000</td>\n",
       "      <td>4410.000000</td>\n",
       "      <td>4410.000000</td>\n",
       "      <td>4410.000000</td>\n",
       "      <td>4410.000000</td>\n",
       "    </tr>\n",
       "    <tr>\n",
       "      <th>mean</th>\n",
       "      <td>36.923810</td>\n",
       "      <td>9.192517</td>\n",
       "      <td>2.912925</td>\n",
       "      <td>1.0</td>\n",
       "      <td>2205.500000</td>\n",
       "      <td>2.063946</td>\n",
       "      <td>65029.312925</td>\n",
       "      <td>2.694830</td>\n",
       "      <td>15.209524</td>\n",
       "      <td>8.0</td>\n",
       "      <td>0.793878</td>\n",
       "      <td>11.279936</td>\n",
       "      <td>2.799320</td>\n",
       "      <td>7.008163</td>\n",
       "      <td>2.187755</td>\n",
       "      <td>4.123129</td>\n",
       "    </tr>\n",
       "    <tr>\n",
       "      <th>std</th>\n",
       "      <td>9.133301</td>\n",
       "      <td>8.105026</td>\n",
       "      <td>1.023933</td>\n",
       "      <td>0.0</td>\n",
       "      <td>1273.201673</td>\n",
       "      <td>1.106689</td>\n",
       "      <td>47068.888559</td>\n",
       "      <td>2.498887</td>\n",
       "      <td>3.659108</td>\n",
       "      <td>0.0</td>\n",
       "      <td>0.851883</td>\n",
       "      <td>7.782222</td>\n",
       "      <td>1.288978</td>\n",
       "      <td>6.125135</td>\n",
       "      <td>3.221699</td>\n",
       "      <td>3.567327</td>\n",
       "    </tr>\n",
       "    <tr>\n",
       "      <th>min</th>\n",
       "      <td>18.000000</td>\n",
       "      <td>1.000000</td>\n",
       "      <td>1.000000</td>\n",
       "      <td>1.0</td>\n",
       "      <td>1.000000</td>\n",
       "      <td>1.000000</td>\n",
       "      <td>10090.000000</td>\n",
       "      <td>0.000000</td>\n",
       "      <td>11.000000</td>\n",
       "      <td>8.0</td>\n",
       "      <td>0.000000</td>\n",
       "      <td>0.000000</td>\n",
       "      <td>0.000000</td>\n",
       "      <td>0.000000</td>\n",
       "      <td>0.000000</td>\n",
       "      <td>0.000000</td>\n",
       "    </tr>\n",
       "    <tr>\n",
       "      <th>25%</th>\n",
       "      <td>30.000000</td>\n",
       "      <td>2.000000</td>\n",
       "      <td>2.000000</td>\n",
       "      <td>1.0</td>\n",
       "      <td>1103.250000</td>\n",
       "      <td>1.000000</td>\n",
       "      <td>29110.000000</td>\n",
       "      <td>1.000000</td>\n",
       "      <td>12.000000</td>\n",
       "      <td>8.0</td>\n",
       "      <td>0.000000</td>\n",
       "      <td>6.000000</td>\n",
       "      <td>2.000000</td>\n",
       "      <td>3.000000</td>\n",
       "      <td>0.000000</td>\n",
       "      <td>2.000000</td>\n",
       "    </tr>\n",
       "    <tr>\n",
       "      <th>50%</th>\n",
       "      <td>36.000000</td>\n",
       "      <td>7.000000</td>\n",
       "      <td>3.000000</td>\n",
       "      <td>1.0</td>\n",
       "      <td>2205.500000</td>\n",
       "      <td>2.000000</td>\n",
       "      <td>49190.000000</td>\n",
       "      <td>2.000000</td>\n",
       "      <td>14.000000</td>\n",
       "      <td>8.0</td>\n",
       "      <td>1.000000</td>\n",
       "      <td>10.000000</td>\n",
       "      <td>3.000000</td>\n",
       "      <td>5.000000</td>\n",
       "      <td>1.000000</td>\n",
       "      <td>3.000000</td>\n",
       "    </tr>\n",
       "    <tr>\n",
       "      <th>75%</th>\n",
       "      <td>43.000000</td>\n",
       "      <td>14.000000</td>\n",
       "      <td>4.000000</td>\n",
       "      <td>1.0</td>\n",
       "      <td>3307.750000</td>\n",
       "      <td>3.000000</td>\n",
       "      <td>83800.000000</td>\n",
       "      <td>4.000000</td>\n",
       "      <td>18.000000</td>\n",
       "      <td>8.0</td>\n",
       "      <td>1.000000</td>\n",
       "      <td>15.000000</td>\n",
       "      <td>3.000000</td>\n",
       "      <td>9.000000</td>\n",
       "      <td>3.000000</td>\n",
       "      <td>7.000000</td>\n",
       "    </tr>\n",
       "    <tr>\n",
       "      <th>max</th>\n",
       "      <td>60.000000</td>\n",
       "      <td>29.000000</td>\n",
       "      <td>5.000000</td>\n",
       "      <td>1.0</td>\n",
       "      <td>4410.000000</td>\n",
       "      <td>5.000000</td>\n",
       "      <td>199990.000000</td>\n",
       "      <td>9.000000</td>\n",
       "      <td>25.000000</td>\n",
       "      <td>8.0</td>\n",
       "      <td>3.000000</td>\n",
       "      <td>40.000000</td>\n",
       "      <td>6.000000</td>\n",
       "      <td>40.000000</td>\n",
       "      <td>15.000000</td>\n",
       "      <td>17.000000</td>\n",
       "    </tr>\n",
       "  </tbody>\n",
       "</table>\n",
       "</div>"
      ],
      "text/plain": [
       "               Age  DistanceFromHome    Education  EmployeeCount   EmployeeID  \\\n",
       "count  4410.000000       4410.000000  4410.000000         4410.0  4410.000000   \n",
       "mean     36.923810          9.192517     2.912925            1.0  2205.500000   \n",
       "std       9.133301          8.105026     1.023933            0.0  1273.201673   \n",
       "min      18.000000          1.000000     1.000000            1.0     1.000000   \n",
       "25%      30.000000          2.000000     2.000000            1.0  1103.250000   \n",
       "50%      36.000000          7.000000     3.000000            1.0  2205.500000   \n",
       "75%      43.000000         14.000000     4.000000            1.0  3307.750000   \n",
       "max      60.000000         29.000000     5.000000            1.0  4410.000000   \n",
       "\n",
       "          JobLevel   YearlyIncome  NumCompaniesWorked  PercentSalaryHike  \\\n",
       "count  4410.000000    4410.000000         4391.000000        4410.000000   \n",
       "mean      2.063946   65029.312925            2.694830          15.209524   \n",
       "std       1.106689   47068.888559            2.498887           3.659108   \n",
       "min       1.000000   10090.000000            0.000000          11.000000   \n",
       "25%       1.000000   29110.000000            1.000000          12.000000   \n",
       "50%       2.000000   49190.000000            2.000000          14.000000   \n",
       "75%       3.000000   83800.000000            4.000000          18.000000   \n",
       "max       5.000000  199990.000000            9.000000          25.000000   \n",
       "\n",
       "       StandardHours  StockOptionLevel  TotalWorkingYears  \\\n",
       "count         4410.0       4410.000000        4401.000000   \n",
       "mean             8.0          0.793878          11.279936   \n",
       "std              0.0          0.851883           7.782222   \n",
       "min              8.0          0.000000           0.000000   \n",
       "25%              8.0          0.000000           6.000000   \n",
       "50%              8.0          1.000000          10.000000   \n",
       "75%              8.0          1.000000          15.000000   \n",
       "max              8.0          3.000000          40.000000   \n",
       "\n",
       "       TrainingTimesLastYear  YearsAtCompany  YearsSinceLastPromotion  \\\n",
       "count            4410.000000     4410.000000              4410.000000   \n",
       "mean                2.799320        7.008163                 2.187755   \n",
       "std                 1.288978        6.125135                 3.221699   \n",
       "min                 0.000000        0.000000                 0.000000   \n",
       "25%                 2.000000        3.000000                 0.000000   \n",
       "50%                 3.000000        5.000000                 1.000000   \n",
       "75%                 3.000000        9.000000                 3.000000   \n",
       "max                 6.000000       40.000000                15.000000   \n",
       "\n",
       "       YearsWithCurrManager  \n",
       "count           4410.000000  \n",
       "mean               4.123129  \n",
       "std                3.567327  \n",
       "min                0.000000  \n",
       "25%                2.000000  \n",
       "50%                3.000000  \n",
       "75%                7.000000  \n",
       "max               17.000000  "
      ]
     },
     "execution_count": 5,
     "metadata": {},
     "output_type": "execute_result"
    }
   ],
   "source": [
    "data.describe()"
   ]
  },
  {
   "cell_type": "code",
   "execution_count": 6,
   "id": "8d502058",
   "metadata": {},
   "outputs": [
    {
     "data": {
      "text/plain": [
       "0"
      ]
     },
     "execution_count": 6,
     "metadata": {},
     "output_type": "execute_result"
    }
   ],
   "source": [
    "# Finding if there are any duplicate records\n",
    "data.duplicated().sum()"
   ]
  },
  {
   "cell_type": "code",
   "execution_count": 7,
   "id": "75658ba0",
   "metadata": {
    "scrolled": true
   },
   "outputs": [
    {
     "data": {
      "text/plain": [
       "Age                         0\n",
       "Attrition                   0\n",
       "BusinessTravel              0\n",
       "Department                  0\n",
       "DistanceFromHome            0\n",
       "Education                   0\n",
       "EducationField              0\n",
       "EmployeeCount               0\n",
       "EmployeeID                  0\n",
       "Gender                      0\n",
       "JobLevel                    0\n",
       "JobRole                     0\n",
       "MaritalStatus               0\n",
       "YearlyIncome                0\n",
       "NumCompaniesWorked         19\n",
       "Over18                      0\n",
       "PercentSalaryHike           0\n",
       "StandardHours               0\n",
       "StockOptionLevel            0\n",
       "TotalWorkingYears           9\n",
       "TrainingTimesLastYear       0\n",
       "YearsAtCompany              0\n",
       "YearsSinceLastPromotion     0\n",
       "YearsWithCurrManager        0\n",
       "dtype: int64"
      ]
     },
     "execution_count": 7,
     "metadata": {},
     "output_type": "execute_result"
    }
   ],
   "source": [
    "#Find out the missing values\n",
    "data.apply(lambda x:sum(x.isnull()))"
   ]
  },
  {
   "cell_type": "markdown",
   "id": "5371e914",
   "metadata": {},
   "source": [
    "There are only missing values in 2 columns : NumCompaniesWorked (19 missing) and TotalWorkingYears (9 missing)."
   ]
  },
  {
   "cell_type": "code",
   "execution_count": 8,
   "id": "c5eda3a9",
   "metadata": {},
   "outputs": [
    {
     "data": {
      "text/plain": [
       "Age                          43\n",
       "Attrition                     2\n",
       "BusinessTravel                3\n",
       "Department                    3\n",
       "DistanceFromHome             29\n",
       "Education                     5\n",
       "EducationField                6\n",
       "EmployeeCount                 1\n",
       "EmployeeID                 4410\n",
       "Gender                        2\n",
       "JobLevel                      5\n",
       "JobRole                       9\n",
       "MaritalStatus                 3\n",
       "YearlyIncome               1349\n",
       "NumCompaniesWorked           11\n",
       "Over18                        1\n",
       "PercentSalaryHike            15\n",
       "StandardHours                 1\n",
       "StockOptionLevel              4\n",
       "TotalWorkingYears            41\n",
       "TrainingTimesLastYear         7\n",
       "YearsAtCompany               37\n",
       "YearsSinceLastPromotion      16\n",
       "YearsWithCurrManager         18\n",
       "dtype: int64"
      ]
     },
     "execution_count": 8,
     "metadata": {},
     "output_type": "execute_result"
    }
   ],
   "source": [
    "#Find out the number of unique values\n",
    "data.apply(lambda x:len(x.unique()))"
   ]
  },
  {
   "cell_type": "code",
   "execution_count": 9,
   "id": "fe3fd576",
   "metadata": {},
   "outputs": [
    {
     "name": "stdout",
     "output_type": "stream",
     "text": [
      "\n",
      "Frequency of Categories for variable : Attrition\n",
      "No     3699\n",
      "Yes     711\n",
      "Name: Attrition, dtype: int64\n",
      "\n",
      "Frequency of Categories for variable : BusinessTravel\n",
      "Travel_Rarely        3129\n",
      "Travel_Frequently     831\n",
      "Non-Travel            450\n",
      "Name: BusinessTravel, dtype: int64\n",
      "\n",
      "Frequency of Categories for variable : Department\n",
      "Research & Development    2883\n",
      "Sales                     1338\n",
      "Human Resources            189\n",
      "Name: Department, dtype: int64\n",
      "\n",
      "Frequency of Categories for variable : EducationField\n",
      "Life Sciences       1818\n",
      "Medical             1392\n",
      "Marketing            477\n",
      "Technical Degree     396\n",
      "Other                246\n",
      "Human Resources       81\n",
      "Name: EducationField, dtype: int64\n",
      "\n",
      "Frequency of Categories for variable : Gender\n",
      "Male      2646\n",
      "Female    1764\n",
      "Name: Gender, dtype: int64\n",
      "\n",
      "Frequency of Categories for variable : JobRole\n",
      "Sales Executive              978\n",
      "Research Scientist           876\n",
      "Laboratory Technician        777\n",
      "Manufacturing Director       435\n",
      "Healthcare Representative    393\n",
      "Manager                      306\n",
      "Sales Representative         249\n",
      "Research Director            240\n",
      "Human Resources              156\n",
      "Name: JobRole, dtype: int64\n",
      "\n",
      "Frequency of Categories for variable : MaritalStatus\n",
      "Married     2019\n",
      "Single      1410\n",
      "Divorced     981\n",
      "Name: MaritalStatus, dtype: int64\n",
      "\n",
      "Frequency of Categories for variable : Over18\n",
      "Y    4410\n",
      "Name: Over18, dtype: int64\n"
     ]
    }
   ],
   "source": [
    "#filter categorical variables\n",
    "categorical_columns = [x for x in data.dtypes.index if data.dtypes[x] == 'object']\n",
    "#Exclude ID cols and source\n",
    "categorical_columns = [x for x in categorical_columns if x not in ['EmployeeID','source']]\n",
    "\n",
    "#categorical_columns\n",
    "\n",
    "# Print Frequency of all\n",
    "for col in categorical_columns:\n",
    "    print('\\nFrequency of Categories for variable : %s' %col)\n",
    "    print(data[col].value_counts())"
   ]
  },
  {
   "cell_type": "code",
   "execution_count": 10,
   "id": "4d3a3da7",
   "metadata": {},
   "outputs": [
    {
     "name": "stdout",
     "output_type": "stream",
     "text": [
      "<class 'pandas.core.frame.DataFrame'>\n",
      "RangeIndex: 4410 entries, 0 to 4409\n",
      "Data columns (total 24 columns):\n",
      " #   Column                   Non-Null Count  Dtype  \n",
      "---  ------                   --------------  -----  \n",
      " 0   Age                      4410 non-null   int64  \n",
      " 1   Attrition                4410 non-null   object \n",
      " 2   BusinessTravel           4410 non-null   object \n",
      " 3   Department               4410 non-null   object \n",
      " 4   DistanceFromHome         4410 non-null   int64  \n",
      " 5   Education                4410 non-null   int64  \n",
      " 6   EducationField           4410 non-null   object \n",
      " 7   EmployeeCount            4410 non-null   int64  \n",
      " 8   EmployeeID               4410 non-null   int64  \n",
      " 9   Gender                   4410 non-null   object \n",
      " 10  JobLevel                 4410 non-null   int64  \n",
      " 11  JobRole                  4410 non-null   object \n",
      " 12  MaritalStatus            4410 non-null   object \n",
      " 13  YearlyIncome             4410 non-null   int64  \n",
      " 14  NumCompaniesWorked       4391 non-null   float64\n",
      " 15  Over18                   4410 non-null   object \n",
      " 16  PercentSalaryHike        4410 non-null   int64  \n",
      " 17  StandardHours            4410 non-null   int64  \n",
      " 18  StockOptionLevel         4410 non-null   int64  \n",
      " 19  TotalWorkingYears        4401 non-null   float64\n",
      " 20  TrainingTimesLastYear    4410 non-null   int64  \n",
      " 21  YearsAtCompany           4410 non-null   int64  \n",
      " 22  YearsSinceLastPromotion  4410 non-null   int64  \n",
      " 23  YearsWithCurrManager     4410 non-null   int64  \n",
      "dtypes: float64(2), int64(14), object(8)\n",
      "memory usage: 827.0+ KB\n"
     ]
    }
   ],
   "source": [
    "data.info()"
   ]
  },
  {
   "cell_type": "markdown",
   "id": "e506fef5",
   "metadata": {},
   "source": [
    "                                            UNIVARIATE ANALYSIS"
   ]
  },
  {
   "cell_type": "code",
   "execution_count": 11,
   "id": "0772d301",
   "metadata": {},
   "outputs": [],
   "source": [
    "# Creating function for Pie Chart\n",
    "def createPieChart(columnName):\n",
    "    colName = data[columnName].value_counts()\n",
    "    values = list(colName.values)\n",
    "    labels = list(colName.index)\n",
    "    plt.pie(values, labels = labels, autopct='%.0f%%')\n",
    "    plt.show()"
   ]
  },
  {
   "cell_type": "code",
   "execution_count": 12,
   "id": "3561bcba",
   "metadata": {},
   "outputs": [],
   "source": [
    "# Create function for Bar Chart\n",
    "def createBarCountPlot(columnName,hue):\n",
    "    if hue == \"\":\n",
    "        ax = sns.countplot(x=columnName, data=data)\n",
    "        plt.title(columnName,fontsize=20,fontname=\"Calibri\")\n",
    "        for p in ax.patches:\n",
    "            ax.annotate('{:}'.format(p.get_height()), (p.get_x()+0.35, p.get_height()+50))\n",
    "    else:\n",
    "        ax = sns.countplot(x=columnName,hue=hue, data=data)\n",
    "        title = hue+\" vs \"+columnName\n",
    "        plt.title(title,fontsize=20,fontname=\"Calibri\")\n",
    "        for p in ax.patches:\n",
    "            ax.annotate('{:}'.format(p.get_height()), (p.get_x()+0.05, p.get_height()+50))  "
   ]
  },
  {
   "cell_type": "code",
   "execution_count": 13,
   "id": "27d9e401",
   "metadata": {},
   "outputs": [
    {
     "data": {
      "image/png": "[encoded data removed]",
      "text/plain": [
       "<Figure size 432x288 with 1 Axes>"
      ]
     },
     "metadata": {},
     "output_type": "display_data"
    }
   ],
   "source": [
    "# Attrition\n",
    "sns.set_theme(style=\"darkgrid\")\n",
    "createBarCountPlot('Attrition',\"\")"
   ]
  },
  {
   "cell_type": "markdown",
   "id": "3d9d6ec3",
   "metadata": {},
   "source": [
    "The distribution of attrition shows that majority of employess(3699) were not subjected to attrition. However 711 employees had left the company."
   ]
  },
  {
   "cell_type": "code",
   "execution_count": 14,
   "id": "c03a15fb",
   "metadata": {},
   "outputs": [
    {
     "data": {
      "text/plain": [
       "No     3699\n",
       "Yes     711\n",
       "Name: Attrition, dtype: int64"
      ]
     },
     "execution_count": 14,
     "metadata": {},
     "output_type": "execute_result"
    }
   ],
   "source": [
    "data['Attrition'].value_counts()"
   ]
  },
  {
   "cell_type": "code",
   "execution_count": 15,
   "id": "7eece739",
   "metadata": {},
   "outputs": [
    {
     "data": {
      "text/plain": [
       "<AxesSubplot:xlabel='Age', ylabel='Count'>"
      ]
     },
     "execution_count": 15,
     "metadata": {},
     "output_type": "execute_result"
    },
    {
     "data": {
      "image/png": "[encoded data removed]",
      "text/plain": [
       "<Figure size 432x288 with 1 Axes>"
      ]
     },
     "metadata": {},
     "output_type": "display_data"
    }
   ],
   "source": [
    "# Age\n",
    "sns.histplot(x=\"Age\",data=data, kde=True)"
   ]
  },
  {
   "cell_type": "markdown",
   "id": "ebc6e326",
   "metadata": {},
   "source": [
    "The histogram shows the distribution of the Age and the its is normally distributed. The average age of the employees us around 35."
   ]
  },
  {
   "cell_type": "code",
   "execution_count": 89,
   "id": "68b01b94",
   "metadata": {},
   "outputs": [
    {
     "data": {
      "image/png": "[encoded data removed]",
      "text/plain": [
       "<Figure size 432x288 with 1 Axes>"
      ]
     },
     "metadata": {},
     "output_type": "display_data"
    }
   ],
   "source": [
    "# BusinessTravel\n",
    "createPieChart('BusinessTravel')"
   ]
  },
  {
   "cell_type": "markdown",
   "id": "5b222dc9",
   "metadata": {},
   "source": [
    "Majority of the employees have rarely traveled and least category of people had not traveled for business purpose."
   ]
  },
  {
   "cell_type": "code",
   "execution_count": 14,
   "id": "0b7ab671",
   "metadata": {},
   "outputs": [
    {
     "data": {
      "image/png": "[encoded data removed]",
      "text/plain": [
       "<Figure size 432x288 with 1 Axes>"
      ]
     },
     "metadata": {},
     "output_type": "display_data"
    }
   ],
   "source": [
    "# Department\n",
    "createPieChart('Department')"
   ]
  },
  {
   "cell_type": "markdown",
   "id": "fc1946af",
   "metadata": {},
   "source": [
    "From the distribution of the Department, we could see that Research and Development had highest employees, followed by Sales and finally the Human Resources department."
   ]
  },
  {
   "cell_type": "code",
   "execution_count": 15,
   "id": "e40d9c6a",
   "metadata": {},
   "outputs": [
    {
     "data": {
      "text/plain": [
       "<AxesSubplot:ylabel='DistanceFromHome'>"
      ]
     },
     "execution_count": 15,
     "metadata": {},
     "output_type": "execute_result"
    },
    {
     "data": {
      "image/png": "[encoded data removed]",
      "text/plain": [
       "<Figure size 432x288 with 1 Axes>"
      ]
     },
     "metadata": {},
     "output_type": "display_data"
    }
   ],
   "source": [
    "# DistanceFromHome\n",
    "sns.boxplot(y=\"DistanceFromHome\", palette=[\"crimson\"],data=data)"
   ]
  },
  {
   "cell_type": "markdown",
   "id": "0e9dbdb1",
   "metadata": {},
   "source": [
    "Taking in to consideration about the DistanceFromHome, we could see that most of the employees travel a distance from 3 -14 km to commute to work."
   ]
  },
  {
   "cell_type": "code",
   "execution_count": 16,
   "id": "d019398f",
   "metadata": {},
   "outputs": [
    {
     "data": {
      "image/png": "[encoded data removed]",
      "text/plain": [
       "<Figure size 432x288 with 1 Axes>"
      ]
     },
     "metadata": {},
     "output_type": "display_data"
    }
   ],
   "source": [
    "# Education\n",
    "createBarCountPlot('Education',\"\")"
   ]
  },
  {
   "cell_type": "markdown",
   "id": "2a7a2e91",
   "metadata": {},
   "source": [
    "Highest percent of employees had education level of 3 and least group were in level 5."
   ]
  },
  {
   "cell_type": "code",
   "execution_count": 33,
   "id": "0e18bb2e",
   "metadata": {},
   "outputs": [
    {
     "data": {
      "image/png": "[encoded data removed]",
      "text/plain": [
       "<Figure size 432x288 with 1 Axes>"
      ]
     },
     "metadata": {},
     "output_type": "display_data"
    }
   ],
   "source": [
    "# EducationField\n",
    "createPieChart('EducationField')"
   ]
  },
  {
   "cell_type": "markdown",
   "id": "a9a9f36d",
   "metadata": {},
   "source": [
    "Most of the employees had their education in the field of Life Science and Medical field. Least were from HR background."
   ]
  },
  {
   "cell_type": "code",
   "execution_count": 24,
   "id": "70251752",
   "metadata": {},
   "outputs": [],
   "source": [
    "# EmployeeCount\n",
    "# --- All the values are 1 and hence we can omit that column as it dosent have any impact on the outcome"
   ]
  },
  {
   "cell_type": "code",
   "execution_count": 27,
   "id": "a6c0157b",
   "metadata": {},
   "outputs": [
    {
     "data": {
      "image/png": "[encoded data removed]",
      "text/plain": [
       "<Figure size 432x288 with 1 Axes>"
      ]
     },
     "metadata": {},
     "output_type": "display_data"
    }
   ],
   "source": [
    "# Gender\n",
    "createPieChart('Gender')"
   ]
  },
  {
   "cell_type": "markdown",
   "id": "8144a04a",
   "metadata": {},
   "source": [
    "Males were higher compared to females in the company as shown in the pie chart."
   ]
  },
  {
   "cell_type": "code",
   "execution_count": 90,
   "id": "655fd50f",
   "metadata": {},
   "outputs": [
    {
     "data": {
      "image/png": "[encoded data removed]",
      "text/plain": [
       "<Figure size 432x288 with 1 Axes>"
      ]
     },
     "metadata": {},
     "output_type": "display_data"
    }
   ],
   "source": [
    "# JobLevel\n",
    "createBarCountPlot('JobLevel',\"\")"
   ]
  },
  {
   "cell_type": "markdown",
   "id": "33bd33d8",
   "metadata": {},
   "source": [
    "The job level changes from 1 (basic level) to 5 (manager). Most of the employees were in the group 1 and 2. As the poisition increases, number of employees decrease."
   ]
  },
  {
   "cell_type": "code",
   "execution_count": 37,
   "id": "2523affa",
   "metadata": {},
   "outputs": [
    {
     "data": {
      "image/png": "[encoded data removed]",
      "text/plain": [
       "<Figure size 432x288 with 1 Axes>"
      ]
     },
     "metadata": {},
     "output_type": "display_data"
    }
   ],
   "source": [
    "# JobRole\n",
    "createPieChart('JobRole')"
   ]
  },
  {
   "cell_type": "markdown",
   "id": "cf5d166b",
   "metadata": {},
   "source": [
    "The job role that had highest employees was Sales Executives(22%). Least belonged to HR (4%)."
   ]
  },
  {
   "cell_type": "code",
   "execution_count": 38,
   "id": "60cab59c",
   "metadata": {},
   "outputs": [
    {
     "data": {
      "image/png": "[encoded data removed]",
      "text/plain": [
       "<Figure size 432x288 with 1 Axes>"
      ]
     },
     "metadata": {},
     "output_type": "display_data"
    }
   ],
   "source": [
    "# MaritalStatus\n",
    "createPieChart('MaritalStatus')"
   ]
  },
  {
   "cell_type": "markdown",
   "id": "ce42f039",
   "metadata": {},
   "source": [
    "46% of employees were married, 32 % were single and 22% were divorced."
   ]
  },
  {
   "cell_type": "code",
   "execution_count": 40,
   "id": "da9b7845",
   "metadata": {},
   "outputs": [
    {
     "data": {
      "text/plain": [
       "<AxesSubplot:xlabel='YearlyIncome', ylabel='Count'>"
      ]
     },
     "execution_count": 40,
     "metadata": {},
     "output_type": "execute_result"
    },
    {
     "data": {
      "image/png": "[encoded data removed]",
      "text/plain": [
       "<Figure size 432x288 with 1 Axes>"
      ]
     },
     "metadata": {},
     "output_type": "display_data"
    }
   ],
   "source": [
    "# YearlyIncome\n",
    "sns.histplot(x=\"YearlyIncome\",data=data, kde=True)"
   ]
  },
  {
   "cell_type": "markdown",
   "id": "a6e18ba8",
   "metadata": {},
   "source": [
    "The histogram of the yearly income shows that most of employees had income between 25k and 75k."
   ]
  },
  {
   "cell_type": "code",
   "execution_count": 95,
   "id": "8845bd2c",
   "metadata": {},
   "outputs": [
    {
     "data": {
      "image/png": "[encoded data removed]",
      "text/plain": [
       "<Figure size 432x288 with 1 Axes>"
      ]
     },
     "metadata": {
      "needs_background": "light"
     },
     "output_type": "display_data"
    }
   ],
   "source": [
    "# NumCompaniesWorked\n",
    "\n",
    "createBarCountPlot('NumCompaniesWorked',\"\")"
   ]
  },
  {
   "cell_type": "markdown",
   "id": "43eb6d3b",
   "metadata": {},
   "source": [
    "The employees who worked in 1 company was way higher than other categories. The count of it is 1577."
   ]
  },
  {
   "cell_type": "code",
   "execution_count": 43,
   "id": "ab4bedaa",
   "metadata": {},
   "outputs": [],
   "source": [
    "# Over18 ---> All employees are over 18 and hence it has no impact on the output"
   ]
  },
  {
   "cell_type": "code",
   "execution_count": 92,
   "id": "f814845d",
   "metadata": {},
   "outputs": [
    {
     "data": {
      "image/png": "[encoded data removed]",
      "text/plain": [
       "<Figure size 432x288 with 1 Axes>"
      ]
     },
     "metadata": {},
     "output_type": "display_data"
    }
   ],
   "source": [
    "# PercentSalaryHike\n",
    "createBarCountPlot('PercentSalaryHike',\"\")"
   ]
  },
  {
   "cell_type": "markdown",
   "id": "c2ed39cf",
   "metadata": {},
   "source": [
    "Most of the employees had a hike less than 15%. Only 54 employees had hike of 25% in their salary."
   ]
  },
  {
   "cell_type": "code",
   "execution_count": 50,
   "id": "f4596c80",
   "metadata": {},
   "outputs": [],
   "source": [
    "# StandardHours --> All employees have standard working hours as 8hrs. Hence its dosent have any impact on the outcome"
   ]
  },
  {
   "cell_type": "code",
   "execution_count": 51,
   "id": "665d5d2d",
   "metadata": {},
   "outputs": [
    {
     "data": {
      "image/png": "[encoded data removed]",
      "text/plain": [
       "<Figure size 432x288 with 1 Axes>"
      ]
     },
     "metadata": {},
     "output_type": "display_data"
    }
   ],
   "source": [
    "# StockOptionLevel\n",
    "createPieChart('StockOptionLevel')"
   ]
  },
  {
   "cell_type": "code",
   "execution_count": 17,
   "id": "7634caa0",
   "metadata": {},
   "outputs": [
    {
     "data": {
      "text/plain": [
       "<AxesSubplot:xlabel='TotalWorkingYears', ylabel='Count'>"
      ]
     },
     "execution_count": 17,
     "metadata": {},
     "output_type": "execute_result"
    },
    {
     "data": {
      "image/png": "[encoded data removed]",
      "text/plain": [
       "<Figure size 432x288 with 1 Axes>"
      ]
     },
     "metadata": {},
     "output_type": "display_data"
    }
   ],
   "source": [
    "# TotalWorkingYears\n",
    "sns.histplot(x=\"TotalWorkingYears\",data=data, kde=True)"
   ]
  },
  {
   "cell_type": "markdown",
   "id": "6cf5de7d",
   "metadata": {},
   "source": [
    "Majority of employees had total working years of less than 10 years."
   ]
  },
  {
   "cell_type": "code",
   "execution_count": 93,
   "id": "22f55209",
   "metadata": {},
   "outputs": [
    {
     "data": {
      "image/png": "[encoded data removed]",
      "text/plain": [
       "<Figure size 432x288 with 1 Axes>"
      ]
     },
     "metadata": {},
     "output_type": "display_data"
    }
   ],
   "source": [
    "# TrainingTimesLastYear\n",
    "createBarCountPlot('TrainingTimesLastYear',\"\")"
   ]
  },
  {
   "cell_type": "markdown",
   "id": "d4e7998d",
   "metadata": {},
   "source": [
    "There were 1641 employees who took the training 2 time last years and that group was top in the list."
   ]
  },
  {
   "cell_type": "code",
   "execution_count": 54,
   "id": "63066939",
   "metadata": {},
   "outputs": [
    {
     "data": {
      "text/plain": [
       "<AxesSubplot:ylabel='YearsAtCompany'>"
      ]
     },
     "execution_count": 54,
     "metadata": {},
     "output_type": "execute_result"
    },
    {
     "data": {
      "image/png": "[encoded data removed]",
      "text/plain": [
       "<Figure size 432x288 with 1 Axes>"
      ]
     },
     "metadata": {},
     "output_type": "display_data"
    }
   ],
   "source": [
    "# YearsAtCompany\n",
    "sns.boxplot(y=\"YearsAtCompany\", palette=[\"crimson\"],data=data)"
   ]
  },
  {
   "cell_type": "markdown",
   "id": "0cac4630",
   "metadata": {},
   "source": [
    "Most employees in the company was between 4 to 9 years within the company. A few of them were over 20 years."
   ]
  },
  {
   "cell_type": "code",
   "execution_count": 57,
   "id": "8b8f6c62",
   "metadata": {},
   "outputs": [
    {
     "data": {
      "text/plain": [
       "<AxesSubplot:ylabel='YearsSinceLastPromotion'>"
      ]
     },
     "execution_count": 57,
     "metadata": {},
     "output_type": "execute_result"
    },
    {
     "data": {
      "image/png": "[encoded data removed]",
      "text/plain": [
       "<Figure size 432x288 with 1 Axes>"
      ]
     },
     "metadata": {},
     "output_type": "display_data"
    }
   ],
   "source": [
    "# YearsSinceLastPromotion\n",
    "sns.boxplot(y=\"YearsSinceLastPromotion\", palette=[\"crimson\"],data=data)"
   ]
  },
  {
   "cell_type": "markdown",
   "id": "aed34ee1",
   "metadata": {},
   "source": [
    "Most of them were recently promoted within last 3 years. A few employees were not promoted for more than 8 years."
   ]
  },
  {
   "cell_type": "code",
   "execution_count": 59,
   "id": "0fe175f8",
   "metadata": {},
   "outputs": [
    {
     "data": {
      "text/plain": [
       "<AxesSubplot:ylabel='YearsWithCurrManager'>"
      ]
     },
     "execution_count": 59,
     "metadata": {},
     "output_type": "execute_result"
    },
    {
     "data": {
      "image/png": "[encoded data removed]",
      "text/plain": [
       "<Figure size 432x288 with 1 Axes>"
      ]
     },
     "metadata": {},
     "output_type": "display_data"
    }
   ],
   "source": [
    "# YearsWithCurrManager\n",
    "sns.boxplot(y=\"YearsWithCurrManager\", palette=[\"crimson\"],data=data)"
   ]
  },
  {
   "cell_type": "markdown",
   "id": "d7d7a962",
   "metadata": {},
   "source": [
    "For most employees, they stayed with same manager for 2-7 years within the company."
   ]
  },
  {
   "cell_type": "markdown",
   "id": "2e1c2d99",
   "metadata": {},
   "source": [
    "                                                    BIVARIATE ANALYSIS"
   ]
  },
  {
   "cell_type": "code",
   "execution_count": 11,
   "id": "a4c26ad8",
   "metadata": {},
   "outputs": [
    {
     "data": {
      "text/plain": [
       "<AxesSubplot:xlabel='Attrition', ylabel='Age'>"
      ]
     },
     "execution_count": 11,
     "metadata": {},
     "output_type": "execute_result"
    },
    {
     "data": {
      "image/png": "[encoded data removed]",
      "text/plain": [
       "<Figure size 432x288 with 1 Axes>"
      ]
     },
     "metadata": {
      "needs_background": "light"
     },
     "output_type": "display_data"
    }
   ],
   "source": [
    "# Age vs Attrition\n",
    "sns.barplot(x=\"Attrition\", y=\"Age\", palette=[\"Orange\", \"g\"],data=data)"
   ]
  },
  {
   "cell_type": "markdown",
   "id": "4417d6d8",
   "metadata": {},
   "source": [
    "The mean age of employees who left the company was slightly lower than the employees who stayed with in the company. Which means, the younger employees tend to leave the company more."
   ]
  },
  {
   "cell_type": "code",
   "execution_count": 12,
   "id": "8a092d00",
   "metadata": {},
   "outputs": [
    {
     "data": {
      "image/png": "[encoded data removed]",
      "text/plain": [
       "<Figure size 432x288 with 1 Axes>"
      ]
     },
     "metadata": {
      "needs_background": "light"
     },
     "output_type": "display_data"
    }
   ],
   "source": [
    "# BusinessTravel vs Attrition\n",
    "createBarCountPlot('Attrition',\"BusinessTravel\")"
   ]
  },
  {
   "cell_type": "markdown",
   "id": "452e8ae6",
   "metadata": {},
   "source": [
    "Across all categories of business travel, the employees who had undergone attrition was less than employees who stayed with the company."
   ]
  },
  {
   "cell_type": "code",
   "execution_count": 108,
   "id": "81986ef2",
   "metadata": {},
   "outputs": [
    {
     "data": {
      "image/png": "[encoded data removed]",
      "text/plain": [
       "<Figure size 432x288 with 1 Axes>"
      ]
     },
     "metadata": {},
     "output_type": "display_data"
    }
   ],
   "source": [
    "# Department vs Attrition\n",
    "createBarCountPlot('Attrition',\"Department\")"
   ]
  },
  {
   "cell_type": "markdown",
   "id": "3953e4a2",
   "metadata": {},
   "source": [
    "We could see that the employees in Research and Development department were prone to attrition than other departments."
   ]
  },
  {
   "cell_type": "code",
   "execution_count": 75,
   "id": "4409e73f",
   "metadata": {},
   "outputs": [
    {
     "data": {
      "text/plain": [
       "<AxesSubplot:xlabel='Attrition', ylabel='DistanceFromHome'>"
      ]
     },
     "execution_count": 75,
     "metadata": {},
     "output_type": "execute_result"
    },
    {
     "data": {
      "image/png": "[encoded data removed]",
      "text/plain": [
       "<Figure size 432x288 with 1 Axes>"
      ]
     },
     "metadata": {},
     "output_type": "display_data"
    }
   ],
   "source": [
    "# DistanceFromHome vs Attrition\n",
    "sns.barplot(x=\"Attrition\", y=\"DistanceFromHome\", palette=[\"Orange\", \"g\"],data=data)"
   ]
  },
  {
   "cell_type": "markdown",
   "id": "c99d9583",
   "metadata": {},
   "source": [
    "The average distance travelled to company from home by employees who left the company and who stayed in company are almost the same."
   ]
  },
  {
   "cell_type": "code",
   "execution_count": 109,
   "id": "4624b4dc",
   "metadata": {},
   "outputs": [
    {
     "data": {
      "image/png": "[encoded data removed]",
      "text/plain": [
       "<Figure size 432x288 with 1 Axes>"
      ]
     },
     "metadata": {},
     "output_type": "display_data"
    }
   ],
   "source": [
    "# Education vs Attrition\n",
    "createBarCountPlot('Attrition',\"Education\")"
   ]
  },
  {
   "cell_type": "markdown",
   "id": "555c9920",
   "metadata": {},
   "source": [
    "The employees who left the company had medium level of education."
   ]
  },
  {
   "cell_type": "code",
   "execution_count": 123,
   "id": "c2a1e180",
   "metadata": {},
   "outputs": [
    {
     "data": {
      "image/png": "[encoded data removed]",
      "text/plain": [
       "<Figure size 432x288 with 1 Axes>"
      ]
     },
     "metadata": {},
     "output_type": "display_data"
    }
   ],
   "source": [
    "# EducationField vs Attrition\n",
    "createBarCountPlot('Attrition',\"EducationField\")"
   ]
  },
  {
   "cell_type": "markdown",
   "id": "7e840db6",
   "metadata": {},
   "source": [
    "The people in field of Life Science and Medical field were more subjected to attrition than others."
   ]
  },
  {
   "cell_type": "code",
   "execution_count": 112,
   "id": "0db667a4",
   "metadata": {},
   "outputs": [
    {
     "data": {
      "text/plain": [
       "<AxesSubplot:xlabel='Attrition'>"
      ]
     },
     "execution_count": 112,
     "metadata": {},
     "output_type": "execute_result"
    },
    {
     "data": {
      "image/png": "[encoded data removed]",
      "text/plain": [
       "<Figure size 432x288 with 1 Axes>"
      ]
     },
     "metadata": {},
     "output_type": "display_data"
    }
   ],
   "source": [
    "# Gender vs Attrition\n",
    "#createBarCountPlot('Attrition',\"Gender\")\n",
    "df_plot = data.groupby(['Attrition', 'Gender']).size().reset_index().pivot(columns='Gender', index='Attrition', values=0)\n",
    "df_plot.plot(kind='bar', stacked=True)"
   ]
  },
  {
   "cell_type": "markdown",
   "id": "d1b79fd9",
   "metadata": {},
   "source": [
    "Considering the gender, its seen that Male employees left the company more compared to Females."
   ]
  },
  {
   "cell_type": "code",
   "execution_count": 122,
   "id": "2fca16a4",
   "metadata": {},
   "outputs": [
    {
     "data": {
      "image/png": "[encoded data removed]",
      "text/plain": [
       "<Figure size 432x288 with 1 Axes>"
      ]
     },
     "metadata": {},
     "output_type": "display_data"
    }
   ],
   "source": [
    "# JobLevel vs Attrition\n",
    "createBarCountPlot('Attrition',\"JobLevel\")"
   ]
  },
  {
   "cell_type": "markdown",
   "id": "7d1f81dc",
   "metadata": {},
   "source": [
    "It was seen that as the job level increases, the attrition rate decreases."
   ]
  },
  {
   "cell_type": "code",
   "execution_count": 136,
   "id": "f7d4dd73",
   "metadata": {},
   "outputs": [
    {
     "data": {
      "image/png": "[encoded data removed]",
      "text/plain": [
       "<Figure size 432x288 with 1 Axes>"
      ]
     },
     "metadata": {},
     "output_type": "display_data"
    }
   ],
   "source": [
    "# JobRole vs Attrition\n",
    "pd.crosstab(data.Attrition,data.JobRole).plot(kind = 'bar',width = 0.9,edgecolor='black')\n",
    "ax = plt.axes()\n",
    "ax.set_facecolor(\"gainsboro\")\n",
    "\n",
    "plt.xlabel('Attrition', fontsize=14)\n",
    "plt.ylabel('Count', fontsize=14)\n",
    "plt.title('JobRole vs Attrition',fontsize=18,fontname='Calibri')\n",
    "\n",
    "plt.show()"
   ]
  },
  {
   "cell_type": "markdown",
   "id": "dec80703",
   "metadata": {},
   "source": [
    "From the job roles, the top 3 job roles in which most employees left the company was Sales Executive, Research Scientist and Laboratory Technicians."
   ]
  },
  {
   "cell_type": "code",
   "execution_count": 130,
   "id": "5f854bba",
   "metadata": {},
   "outputs": [
    {
     "data": {
      "image/png": "[encoded data removed]",
      "text/plain": [
       "<Figure size 432x288 with 1 Axes>"
      ]
     },
     "metadata": {},
     "output_type": "display_data"
    }
   ],
   "source": [
    "# MaritalStatus vs Attrition\n",
    "createBarCountPlot('Attrition',\"MaritalStatus\")"
   ]
  },
  {
   "cell_type": "markdown",
   "id": "ff972aa0",
   "metadata": {},
   "source": [
    "Its seen that the employees who were single left the company more compared to others. Might be due to more flexibility in life....:)"
   ]
  },
  {
   "cell_type": "code",
   "execution_count": 131,
   "id": "c5af6b1a",
   "metadata": {},
   "outputs": [
    {
     "data": {
      "text/plain": [
       "<AxesSubplot:xlabel='Attrition', ylabel='YearlyIncome'>"
      ]
     },
     "execution_count": 131,
     "metadata": {},
     "output_type": "execute_result"
    },
    {
     "data": {
      "image/png": "[encoded data removed]",
      "text/plain": [
       "<Figure size 432x288 with 1 Axes>"
      ]
     },
     "metadata": {},
     "output_type": "display_data"
    }
   ],
   "source": [
    "# YearlyIncome vs Attrition\n",
    "sns.boxplot(x=\"Attrition\", y=\"YearlyIncome\", palette=[\"b\", \"crimson\"],data=data)"
   ]
  },
  {
   "cell_type": "markdown",
   "id": "5d85da1f",
   "metadata": {},
   "source": [
    "It seems that Yearly income is not a significant feature to explain the attrition as the mean values of either categories are almost same."
   ]
  },
  {
   "cell_type": "code",
   "execution_count": 19,
   "id": "4c7092bd",
   "metadata": {},
   "outputs": [
    {
     "data": {
      "text/plain": [
       "<AxesSubplot:title={'center':'NumCompaniesWorked vs Attrition'}, xlabel='NumCompaniesWorked', ylabel='Density'>"
      ]
     },
     "execution_count": 19,
     "metadata": {},
     "output_type": "execute_result"
    },
    {
     "data": {
      "image/png": "[encoded data removed]",
      "text/plain": [
       "<Figure size 432x288 with 1 Axes>"
      ]
     },
     "metadata": {},
     "output_type": "display_data"
    }
   ],
   "source": [
    "plt.title('NumCompaniesWorked vs Attrition',fontsize=18,fontname='Calibri')\n",
    "sns.kdeplot(data=data, x=\"NumCompaniesWorked\", hue=\"Attrition\", cut=0, fill=True, common_norm=False, alpha=0.6,palette=[\"gold\", \"crimson\"])"
   ]
  },
  {
   "cell_type": "markdown",
   "id": "9a4649d7",
   "metadata": {},
   "source": [
    "The above plot shows the density of attritions accross the number of companies worked. Both seems to have similar pattern. As the number of companies increase, the attrition level reduces."
   ]
  },
  {
   "cell_type": "code",
   "execution_count": 20,
   "id": "30e938c9",
   "metadata": {},
   "outputs": [
    {
     "data": {
      "text/plain": [
       "<AxesSubplot:title={'center':'PercentSalaryHike vs Attrition'}, xlabel='PercentSalaryHike', ylabel='Density'>"
      ]
     },
     "execution_count": 20,
     "metadata": {},
     "output_type": "execute_result"
    },
    {
     "data": {
      "image/png": "[encoded data removed]",
      "text/plain": [
       "<Figure size 432x288 with 1 Axes>"
      ]
     },
     "metadata": {},
     "output_type": "display_data"
    }
   ],
   "source": [
    "# PercentSalaryHike vs Attrition\n",
    "plt.title('PercentSalaryHike vs Attrition',fontsize=18,fontname='Calibri')\n",
    "sns.kdeplot(data=data, x=\"PercentSalaryHike\", hue=\"Attrition\", cut=0, fill=True, common_norm=False, alpha=0.6,palette=[\"gold\", \"crimson\"])"
   ]
  },
  {
   "cell_type": "markdown",
   "id": "a35b6afa",
   "metadata": {},
   "source": [
    "The denisity plot shows that when the precent of salary hike is high, then employees chance of leaving the company is less."
   ]
  },
  {
   "cell_type": "code",
   "execution_count": 148,
   "id": "305da0f4",
   "metadata": {},
   "outputs": [
    {
     "data": {
      "image/png": "[encoded data removed]",
      "text/plain": [
       "<Figure size 432x288 with 1 Axes>"
      ]
     },
     "metadata": {},
     "output_type": "display_data"
    }
   ],
   "source": [
    "# StockOptionLevel vs Attrition\n",
    "createBarCountPlot('Attrition',\"StockOptionLevel\")"
   ]
  },
  {
   "cell_type": "code",
   "execution_count": 151,
   "id": "09618925",
   "metadata": {},
   "outputs": [
    {
     "data": {
      "text/plain": [
       "<AxesSubplot:title={'center':'TotalWorkingYears vs Attrition'}, xlabel='TotalWorkingYears', ylabel='Count'>"
      ]
     },
     "execution_count": 151,
     "metadata": {},
     "output_type": "execute_result"
    },
    {
     "data": {
      "image/png": "[encoded data removed]",
      "text/plain": [
       "<Figure size 432x288 with 1 Axes>"
      ]
     },
     "metadata": {},
     "output_type": "display_data"
    }
   ],
   "source": [
    "# TotalWorkingYears vs Attrition\n",
    "plt.title('TotalWorkingYears vs Attrition',fontsize=18,fontname='Calibri')\n",
    "sns.histplot(x=\"TotalWorkingYears\",hue=\"Attrition\",palette=[\"b\", \"crimson\"], data=data, kde=True)"
   ]
  },
  {
   "cell_type": "markdown",
   "id": "13f6bfa3",
   "metadata": {},
   "source": [
    "The employees leaves the company mainly in their initial stages of their career. Once their geain more experience they tend to stick on to the company."
   ]
  },
  {
   "cell_type": "code",
   "execution_count": 21,
   "id": "c5137338",
   "metadata": {},
   "outputs": [
    {
     "data": {
      "image/png": "[encoded data removed]",
      "text/plain": [
       "<Figure size 432x288 with 1 Axes>"
      ]
     },
     "metadata": {},
     "output_type": "display_data"
    }
   ],
   "source": [
    "# TrainingTimesLastYear vs Attrition\n",
    "ax = sns.countplot(x='Attrition',hue='TrainingTimesLastYear', data=data)\n",
    "plt.title('TrainingTimesLastYear vs Attrition',fontsize=20,fontname=\"Calibri\")\n",
    "for p in ax.patches:\n",
    "    ax.annotate('{:}'.format(p.get_height()), (p.get_x()+0.01, p.get_height()+50))"
   ]
  },
  {
   "cell_type": "markdown",
   "id": "317290e0",
   "metadata": {},
   "source": [
    "The employees who took training 2 or 3 times left the company more compared to employees who took more or less training times."
   ]
  },
  {
   "cell_type": "code",
   "execution_count": 23,
   "id": "9e73223b",
   "metadata": {},
   "outputs": [
    {
     "data": {
      "text/plain": [
       "<AxesSubplot:title={'center':'YearsAtCompany vs Attrition'}, xlabel='YearsAtCompany', ylabel='Density'>"
      ]
     },
     "execution_count": 23,
     "metadata": {},
     "output_type": "execute_result"
    },
    {
     "data": {
      "image/png": "[encoded data removed]",
      "text/plain": [
       "<Figure size 432x288 with 1 Axes>"
      ]
     },
     "metadata": {},
     "output_type": "display_data"
    }
   ],
   "source": [
    "# YearsAtCompany vs Attrition\n",
    "plt.title('YearsAtCompany vs Attrition',fontsize=18,fontname='Calibri')\n",
    "sns.kdeplot(data=data, x=\"YearsAtCompany\", hue=\"Attrition\", cut=0, fill=True, common_norm=False, alpha=0.6,palette=[\"gold\", \"crimson\"])"
   ]
  },
  {
   "cell_type": "markdown",
   "id": "dc1167fe",
   "metadata": {},
   "source": [
    "It is seen that as the experince in the company increase, there are less chances they leave the company."
   ]
  },
  {
   "cell_type": "code",
   "execution_count": 24,
   "id": "28b97796",
   "metadata": {},
   "outputs": [
    {
     "data": {
      "text/plain": [
       "<AxesSubplot:title={'center':'YearsSinceLastPromotion vs Attrition'}, xlabel='YearsSinceLastPromotion', ylabel='Density'>"
      ]
     },
     "execution_count": 24,
     "metadata": {},
     "output_type": "execute_result"
    },
    {
     "data": {
      "image/png": "[encoded data removed]",
      "text/plain": [
       "<Figure size 432x288 with 1 Axes>"
      ]
     },
     "metadata": {},
     "output_type": "display_data"
    }
   ],
   "source": [
    "# YearsSinceLastPromotion vs Attrition\n",
    "plt.title('YearsSinceLastPromotion vs Attrition',fontsize=18,fontname='Calibri')\n",
    "sns.kdeplot(data=data, x=\"YearsSinceLastPromotion\", hue=\"Attrition\", cut=0, fill=True, common_norm=False, alpha=0.6,palette=[\"limegreen\", \"crimson\"])"
   ]
  },
  {
   "cell_type": "markdown",
   "id": "65dcf8ba",
   "metadata": {},
   "source": [
    "The people who got promoted recently tend to leave company more and it seems others wait for their turn to get promoted."
   ]
  },
  {
   "cell_type": "code",
   "execution_count": 162,
   "id": "6fba92b9",
   "metadata": {},
   "outputs": [
    {
     "data": {
      "text/plain": [
       "<AxesSubplot:title={'center':'YearsWithCurrManager vs Attrition'}, xlabel='YearsWithCurrManager', ylabel='Density'>"
      ]
     },
     "execution_count": 162,
     "metadata": {},
     "output_type": "execute_result"
    },
    {
     "data": {
      "image/png": "[encoded data removed]",
      "text/plain": [
       "<Figure size 432x288 with 1 Axes>"
      ]
     },
     "metadata": {},
     "output_type": "display_data"
    }
   ],
   "source": [
    "# YearsWithCurrManager vs Attrition\n",
    "plt.title('YearsWithCurrManager vs Attrition',fontsize=18,fontname='Calibri')\n",
    "sns.kdeplot(data=data, x=\"YearsWithCurrManager\", hue=\"Attrition\", cut=0, fill=True, common_norm=False, alpha=0.6,palette=[\"limegreen\", \"crimson\"])"
   ]
  },
  {
   "cell_type": "markdown",
   "id": "e1f94edd",
   "metadata": {},
   "source": [
    "When the employees work under same manager for long, the attrition rate reduces."
   ]
  },
  {
   "cell_type": "markdown",
   "id": "c59e7613",
   "metadata": {},
   "source": [
    "                                                    DATA CLEANING"
   ]
  },
  {
   "cell_type": "code",
   "execution_count": 16,
   "id": "17763eb2",
   "metadata": {},
   "outputs": [
    {
     "name": "stdout",
     "output_type": "stream",
     "text": [
      "<class 'pandas.core.frame.DataFrame'>\n",
      "RangeIndex: 4410 entries, 0 to 4409\n",
      "Data columns (total 24 columns):\n",
      " #   Column                   Non-Null Count  Dtype  \n",
      "---  ------                   --------------  -----  \n",
      " 0   Age                      4410 non-null   int64  \n",
      " 1   Attrition                4410 non-null   object \n",
      " 2   BusinessTravel           4410 non-null   object \n",
      " 3   Department               4410 non-null   object \n",
      " 4   DistanceFromHome         4410 non-null   int64  \n",
      " 5   Education                4410 non-null   int64  \n",
      " 6   EducationField           4410 non-null   object \n",
      " 7   EmployeeCount            4410 non-null   int64  \n",
      " 8   EmployeeID               4410 non-null   int64  \n",
      " 9   Gender                   4410 non-null   object \n",
      " 10  JobLevel                 4410 non-null   int64  \n",
      " 11  JobRole                  4410 non-null   object \n",
      " 12  MaritalStatus            4410 non-null   object \n",
      " 13  YearlyIncome             4410 non-null   int64  \n",
      " 14  NumCompaniesWorked       4391 non-null   float64\n",
      " 15  Over18                   4410 non-null   object \n",
      " 16  PercentSalaryHike        4410 non-null   int64  \n",
      " 17  StandardHours            4410 non-null   int64  \n",
      " 18  StockOptionLevel         4410 non-null   int64  \n",
      " 19  TotalWorkingYears        4401 non-null   float64\n",
      " 20  TrainingTimesLastYear    4410 non-null   int64  \n",
      " 21  YearsAtCompany           4410 non-null   int64  \n",
      " 22  YearsSinceLastPromotion  4410 non-null   int64  \n",
      " 23  YearsWithCurrManager     4410 non-null   int64  \n",
      "dtypes: float64(2), int64(14), object(8)\n",
      "memory usage: 827.0+ KB\n"
     ]
    }
   ],
   "source": [
    "data.info()"
   ]
  },
  {
   "cell_type": "code",
   "execution_count": 17,
   "id": "ea159fa0",
   "metadata": {},
   "outputs": [
    {
     "data": {
      "text/plain": [
       "Age                         0\n",
       "Attrition                   0\n",
       "BusinessTravel              0\n",
       "Department                  0\n",
       "DistanceFromHome            0\n",
       "Education                   0\n",
       "EducationField              0\n",
       "EmployeeCount               0\n",
       "EmployeeID                  0\n",
       "Gender                      0\n",
       "JobLevel                    0\n",
       "JobRole                     0\n",
       "MaritalStatus               0\n",
       "YearlyIncome                0\n",
       "NumCompaniesWorked         19\n",
       "Over18                      0\n",
       "PercentSalaryHike           0\n",
       "StandardHours               0\n",
       "StockOptionLevel            0\n",
       "TotalWorkingYears           9\n",
       "TrainingTimesLastYear       0\n",
       "YearsAtCompany              0\n",
       "YearsSinceLastPromotion     0\n",
       "YearsWithCurrManager        0\n",
       "dtype: int64"
      ]
     },
     "execution_count": 17,
     "metadata": {},
     "output_type": "execute_result"
    }
   ],
   "source": [
    "#Find out the missing values\n",
    "data.apply(lambda x:sum(x.isnull()))"
   ]
  },
  {
   "cell_type": "code",
   "execution_count": 18,
   "id": "9edb4585",
   "metadata": {},
   "outputs": [],
   "source": [
    "# Replacing missing values in 'TotalWorkingYears' with its corresponding 'YearsAtCompany'\n",
    "data.loc[data.TotalWorkingYears.isna(),['TotalWorkingYears']] = data[data.TotalWorkingYears.isna()]['YearsAtCompany']\n",
    "data['TotalWorkingYears'] = data['TotalWorkingYears'].astype('int64')"
   ]
  },
  {
   "cell_type": "markdown",
   "id": "be09e251",
   "metadata": {},
   "source": [
    "There were some missing values in the 'TotalWorkingYears'. They are replaced with the value in corresponding 'YearsAtCompany' field instead of 0 as though this company is the employees first company."
   ]
  },
  {
   "cell_type": "code",
   "execution_count": 19,
   "id": "50892b0d",
   "metadata": {},
   "outputs": [
    {
     "data": {
      "text/plain": [
       "<AxesSubplot:xlabel='TotalWorkingYears', ylabel='Count'>"
      ]
     },
     "execution_count": 19,
     "metadata": {},
     "output_type": "execute_result"
    },
    {
     "data": {
      "image/png": "[encoded data removed]",
      "text/plain": [
       "<Figure size 432x288 with 1 Axes>"
      ]
     },
     "metadata": {},
     "output_type": "display_data"
    }
   ],
   "source": [
    "sns.histplot(x=\"TotalWorkingYears\",data=data, kde=True)"
   ]
  },
  {
   "cell_type": "code",
   "execution_count": 20,
   "id": "95e1bd1b",
   "metadata": {},
   "outputs": [],
   "source": [
    "# Replacing missing values in 'NumCompaniesWorked' based on 'JobLevel' and 'Education'\n",
    "from scipy.stats import mode\n",
    "table = data.pivot_table(values='NumCompaniesWorked',index = \"JobLevel\", columns='Education',aggfunc=(lambda x:mode(x)[0]))\n",
    "\n",
    "def fage(x):\n",
    "    return table.loc[x['JobLevel'],x['Education']]\n",
    "\n",
    "data['NumCompaniesWorked'].fillna(data[data['NumCompaniesWorked'].isnull()].apply(fage,axis=1),inplace=True)\n",
    "data['NumCompaniesWorked'] = data['NumCompaniesWorked'].astype('int64')"
   ]
  },
  {
   "cell_type": "markdown",
   "id": "acee6d80",
   "metadata": {},
   "source": [
    "The missing values in the 'NumCompaniesWorked' is replaced with the mode values corresponding to the 'JobLevel' and 'Education' of the respective columns."
   ]
  },
  {
   "cell_type": "code",
   "execution_count": 21,
   "id": "4c69aba6",
   "metadata": {},
   "outputs": [
    {
     "data": {
      "image/png": "[encoded data removed]",
      "text/plain": [
       "<Figure size 432x288 with 1 Axes>"
      ]
     },
     "metadata": {},
     "output_type": "display_data"
    }
   ],
   "source": [
    "createBarCountPlot('NumCompaniesWorked',\"\")"
   ]
  },
  {
   "cell_type": "code",
   "execution_count": 22,
   "id": "fa46bcf1",
   "metadata": {},
   "outputs": [],
   "source": [
    "# Dropping 3 irrelavent columns ('EmployeeCount','Over18' and 'StandardHours')\n",
    "data.drop(['EmployeeCount', 'Over18', 'StandardHours'], axis=1, inplace=True)"
   ]
  },
  {
   "cell_type": "markdown",
   "id": "82c12a90",
   "metadata": {},
   "source": [
    "The 3 columns 'EmployeeCount', 'Over18', 'StandardHours' has the same single values for all observations and hence seems have no relevance in the study variable \"Attrition\"."
   ]
  },
  {
   "cell_type": "code",
   "execution_count": 23,
   "id": "116122ba",
   "metadata": {},
   "outputs": [
    {
     "name": "stdout",
     "output_type": "stream",
     "text": [
      "<class 'pandas.core.frame.DataFrame'>\n",
      "RangeIndex: 4410 entries, 0 to 4409\n",
      "Data columns (total 21 columns):\n",
      " #   Column                   Non-Null Count  Dtype \n",
      "---  ------                   --------------  ----- \n",
      " 0   Age                      4410 non-null   int64 \n",
      " 1   Attrition                4410 non-null   object\n",
      " 2   BusinessTravel           4410 non-null   object\n",
      " 3   Department               4410 non-null   object\n",
      " 4   DistanceFromHome         4410 non-null   int64 \n",
      " 5   Education                4410 non-null   int64 \n",
      " 6   EducationField           4410 non-null   object\n",
      " 7   EmployeeID               4410 non-null   int64 \n",
      " 8   Gender                   4410 non-null   object\n",
      " 9   JobLevel                 4410 non-null   int64 \n",
      " 10  JobRole                  4410 non-null   object\n",
      " 11  MaritalStatus            4410 non-null   object\n",
      " 12  YearlyIncome             4410 non-null   int64 \n",
      " 13  NumCompaniesWorked       4410 non-null   int64 \n",
      " 14  PercentSalaryHike        4410 non-null   int64 \n",
      " 15  StockOptionLevel         4410 non-null   int64 \n",
      " 16  TotalWorkingYears        4410 non-null   int64 \n",
      " 17  TrainingTimesLastYear    4410 non-null   int64 \n",
      " 18  YearsAtCompany           4410 non-null   int64 \n",
      " 19  YearsSinceLastPromotion  4410 non-null   int64 \n",
      " 20  YearsWithCurrManager     4410 non-null   int64 \n",
      "dtypes: int64(14), object(7)\n",
      "memory usage: 723.6+ KB\n"
     ]
    }
   ],
   "source": [
    "data.info()"
   ]
  },
  {
   "cell_type": "markdown",
   "id": "a38fbf36",
   "metadata": {},
   "source": [
    "Now all the missing values are fixed and the data is clean."
   ]
  },
  {
   "cell_type": "code",
   "execution_count": 24,
   "id": "ab3a67f6",
   "metadata": {},
   "outputs": [
    {
     "data": {
      "text/plain": [
       "Age                        0\n",
       "Attrition                  0\n",
       "BusinessTravel             0\n",
       "Department                 0\n",
       "DistanceFromHome           0\n",
       "Education                  0\n",
       "EducationField             0\n",
       "EmployeeID                 0\n",
       "Gender                     0\n",
       "JobLevel                   0\n",
       "JobRole                    0\n",
       "MaritalStatus              0\n",
       "YearlyIncome               0\n",
       "NumCompaniesWorked         0\n",
       "PercentSalaryHike          0\n",
       "StockOptionLevel           0\n",
       "TotalWorkingYears          0\n",
       "TrainingTimesLastYear      0\n",
       "YearsAtCompany             0\n",
       "YearsSinceLastPromotion    0\n",
       "YearsWithCurrManager       0\n",
       "dtype: int64"
      ]
     },
     "execution_count": 24,
     "metadata": {},
     "output_type": "execute_result"
    }
   ],
   "source": [
    "#Find out the missing values\n",
    "data.apply(lambda x:sum(x.isnull()))"
   ]
  },
  {
   "cell_type": "markdown",
   "id": "7a2359a1",
   "metadata": {},
   "source": [
    "                                                    FEATURE ENGINEERING"
   ]
  },
  {
   "cell_type": "markdown",
   "id": "441d040a",
   "metadata": {},
   "source": [
    "1. Age Group - From Age.\n",
    "2. DistanceFromHome - Distance Category\n",
    "3. YearlyIncome - Income Category\n",
    "4. Percent Salary Hike - Salary Hike Category\n",
    "5. Total Working Years - Experience Category\n",
    "6. Years at company - ExperienceInCompanyCategory\n",
    "7. Years since promotion - Promotion Time category\n",
    "8. Years with current manager - CurrentManager Category"
   ]
  },
  {
   "cell_type": "code",
   "execution_count": 25,
   "id": "20d5bc5e",
   "metadata": {},
   "outputs": [
    {
     "data": {
      "text/html": [
       "<div>\n",
       "<style scoped>\n",
       "    .dataframe tbody tr th:only-of-type {\n",
       "        vertical-align: middle;\n",
       "    }\n",
       "\n",
       "    .dataframe tbody tr th {\n",
       "        vertical-align: top;\n",
       "    }\n",
       "\n",
       "    .dataframe thead th {\n",
       "        text-align: right;\n",
       "    }\n",
       "</style>\n",
       "<table border=\"1\" class=\"dataframe\">\n",
       "  <thead>\n",
       "    <tr style=\"text-align: right;\">\n",
       "      <th></th>\n",
       "      <th>Age</th>\n",
       "      <th>Attrition</th>\n",
       "      <th>BusinessTravel</th>\n",
       "      <th>Department</th>\n",
       "      <th>DistanceFromHome</th>\n",
       "      <th>Education</th>\n",
       "      <th>EducationField</th>\n",
       "      <th>EmployeeID</th>\n",
       "      <th>Gender</th>\n",
       "      <th>JobLevel</th>\n",
       "      <th>...</th>\n",
       "      <th>MaritalStatus</th>\n",
       "      <th>YearlyIncome</th>\n",
       "      <th>NumCompaniesWorked</th>\n",
       "      <th>PercentSalaryHike</th>\n",
       "      <th>StockOptionLevel</th>\n",
       "      <th>TotalWorkingYears</th>\n",
       "      <th>TrainingTimesLastYear</th>\n",
       "      <th>YearsAtCompany</th>\n",
       "      <th>YearsSinceLastPromotion</th>\n",
       "      <th>YearsWithCurrManager</th>\n",
       "    </tr>\n",
       "  </thead>\n",
       "  <tbody>\n",
       "    <tr>\n",
       "      <th>0</th>\n",
       "      <td>51</td>\n",
       "      <td>No</td>\n",
       "      <td>Travel_Rarely</td>\n",
       "      <td>Sales</td>\n",
       "      <td>6</td>\n",
       "      <td>2</td>\n",
       "      <td>Life Sciences</td>\n",
       "      <td>1</td>\n",
       "      <td>Female</td>\n",
       "      <td>1</td>\n",
       "      <td>...</td>\n",
       "      <td>Married</td>\n",
       "      <td>131160</td>\n",
       "      <td>1</td>\n",
       "      <td>11</td>\n",
       "      <td>0</td>\n",
       "      <td>1</td>\n",
       "      <td>6</td>\n",
       "      <td>1</td>\n",
       "      <td>0</td>\n",
       "      <td>0</td>\n",
       "    </tr>\n",
       "    <tr>\n",
       "      <th>1</th>\n",
       "      <td>31</td>\n",
       "      <td>Yes</td>\n",
       "      <td>Travel_Frequently</td>\n",
       "      <td>Research &amp; Development</td>\n",
       "      <td>10</td>\n",
       "      <td>1</td>\n",
       "      <td>Life Sciences</td>\n",
       "      <td>2</td>\n",
       "      <td>Female</td>\n",
       "      <td>1</td>\n",
       "      <td>...</td>\n",
       "      <td>Single</td>\n",
       "      <td>41890</td>\n",
       "      <td>0</td>\n",
       "      <td>23</td>\n",
       "      <td>1</td>\n",
       "      <td>6</td>\n",
       "      <td>3</td>\n",
       "      <td>5</td>\n",
       "      <td>1</td>\n",
       "      <td>4</td>\n",
       "    </tr>\n",
       "    <tr>\n",
       "      <th>2</th>\n",
       "      <td>32</td>\n",
       "      <td>No</td>\n",
       "      <td>Travel_Frequently</td>\n",
       "      <td>Research &amp; Development</td>\n",
       "      <td>17</td>\n",
       "      <td>4</td>\n",
       "      <td>Other</td>\n",
       "      <td>3</td>\n",
       "      <td>Male</td>\n",
       "      <td>4</td>\n",
       "      <td>...</td>\n",
       "      <td>Married</td>\n",
       "      <td>193280</td>\n",
       "      <td>1</td>\n",
       "      <td>15</td>\n",
       "      <td>3</td>\n",
       "      <td>5</td>\n",
       "      <td>2</td>\n",
       "      <td>5</td>\n",
       "      <td>0</td>\n",
       "      <td>3</td>\n",
       "    </tr>\n",
       "    <tr>\n",
       "      <th>3</th>\n",
       "      <td>38</td>\n",
       "      <td>No</td>\n",
       "      <td>Non-Travel</td>\n",
       "      <td>Research &amp; Development</td>\n",
       "      <td>2</td>\n",
       "      <td>5</td>\n",
       "      <td>Life Sciences</td>\n",
       "      <td>4</td>\n",
       "      <td>Male</td>\n",
       "      <td>3</td>\n",
       "      <td>...</td>\n",
       "      <td>Married</td>\n",
       "      <td>83210</td>\n",
       "      <td>3</td>\n",
       "      <td>11</td>\n",
       "      <td>3</td>\n",
       "      <td>13</td>\n",
       "      <td>5</td>\n",
       "      <td>8</td>\n",
       "      <td>7</td>\n",
       "      <td>5</td>\n",
       "    </tr>\n",
       "    <tr>\n",
       "      <th>4</th>\n",
       "      <td>32</td>\n",
       "      <td>No</td>\n",
       "      <td>Travel_Rarely</td>\n",
       "      <td>Research &amp; Development</td>\n",
       "      <td>10</td>\n",
       "      <td>1</td>\n",
       "      <td>Medical</td>\n",
       "      <td>5</td>\n",
       "      <td>Male</td>\n",
       "      <td>1</td>\n",
       "      <td>...</td>\n",
       "      <td>Single</td>\n",
       "      <td>23420</td>\n",
       "      <td>4</td>\n",
       "      <td>12</td>\n",
       "      <td>2</td>\n",
       "      <td>9</td>\n",
       "      <td>2</td>\n",
       "      <td>6</td>\n",
       "      <td>0</td>\n",
       "      <td>4</td>\n",
       "    </tr>\n",
       "    <tr>\n",
       "      <th>5</th>\n",
       "      <td>46</td>\n",
       "      <td>No</td>\n",
       "      <td>Travel_Rarely</td>\n",
       "      <td>Research &amp; Development</td>\n",
       "      <td>8</td>\n",
       "      <td>3</td>\n",
       "      <td>Life Sciences</td>\n",
       "      <td>6</td>\n",
       "      <td>Female</td>\n",
       "      <td>4</td>\n",
       "      <td>...</td>\n",
       "      <td>Married</td>\n",
       "      <td>40710</td>\n",
       "      <td>3</td>\n",
       "      <td>13</td>\n",
       "      <td>0</td>\n",
       "      <td>28</td>\n",
       "      <td>5</td>\n",
       "      <td>7</td>\n",
       "      <td>7</td>\n",
       "      <td>7</td>\n",
       "    </tr>\n",
       "    <tr>\n",
       "      <th>6</th>\n",
       "      <td>28</td>\n",
       "      <td>Yes</td>\n",
       "      <td>Travel_Rarely</td>\n",
       "      <td>Research &amp; Development</td>\n",
       "      <td>11</td>\n",
       "      <td>2</td>\n",
       "      <td>Medical</td>\n",
       "      <td>7</td>\n",
       "      <td>Male</td>\n",
       "      <td>2</td>\n",
       "      <td>...</td>\n",
       "      <td>Single</td>\n",
       "      <td>58130</td>\n",
       "      <td>2</td>\n",
       "      <td>20</td>\n",
       "      <td>1</td>\n",
       "      <td>5</td>\n",
       "      <td>2</td>\n",
       "      <td>0</td>\n",
       "      <td>0</td>\n",
       "      <td>0</td>\n",
       "    </tr>\n",
       "    <tr>\n",
       "      <th>7</th>\n",
       "      <td>29</td>\n",
       "      <td>No</td>\n",
       "      <td>Travel_Rarely</td>\n",
       "      <td>Research &amp; Development</td>\n",
       "      <td>18</td>\n",
       "      <td>3</td>\n",
       "      <td>Life Sciences</td>\n",
       "      <td>8</td>\n",
       "      <td>Male</td>\n",
       "      <td>2</td>\n",
       "      <td>...</td>\n",
       "      <td>Married</td>\n",
       "      <td>31430</td>\n",
       "      <td>2</td>\n",
       "      <td>22</td>\n",
       "      <td>3</td>\n",
       "      <td>10</td>\n",
       "      <td>2</td>\n",
       "      <td>0</td>\n",
       "      <td>0</td>\n",
       "      <td>0</td>\n",
       "    </tr>\n",
       "    <tr>\n",
       "      <th>8</th>\n",
       "      <td>31</td>\n",
       "      <td>No</td>\n",
       "      <td>Travel_Rarely</td>\n",
       "      <td>Research &amp; Development</td>\n",
       "      <td>1</td>\n",
       "      <td>3</td>\n",
       "      <td>Life Sciences</td>\n",
       "      <td>9</td>\n",
       "      <td>Male</td>\n",
       "      <td>3</td>\n",
       "      <td>...</td>\n",
       "      <td>Married</td>\n",
       "      <td>20440</td>\n",
       "      <td>0</td>\n",
       "      <td>21</td>\n",
       "      <td>0</td>\n",
       "      <td>10</td>\n",
       "      <td>2</td>\n",
       "      <td>9</td>\n",
       "      <td>7</td>\n",
       "      <td>8</td>\n",
       "    </tr>\n",
       "    <tr>\n",
       "      <th>9</th>\n",
       "      <td>25</td>\n",
       "      <td>No</td>\n",
       "      <td>Non-Travel</td>\n",
       "      <td>Research &amp; Development</td>\n",
       "      <td>7</td>\n",
       "      <td>4</td>\n",
       "      <td>Medical</td>\n",
       "      <td>10</td>\n",
       "      <td>Female</td>\n",
       "      <td>4</td>\n",
       "      <td>...</td>\n",
       "      <td>Divorced</td>\n",
       "      <td>134640</td>\n",
       "      <td>1</td>\n",
       "      <td>13</td>\n",
       "      <td>1</td>\n",
       "      <td>6</td>\n",
       "      <td>2</td>\n",
       "      <td>6</td>\n",
       "      <td>1</td>\n",
       "      <td>5</td>\n",
       "    </tr>\n",
       "  </tbody>\n",
       "</table>\n",
       "<p>10 rows × 21 columns</p>\n",
       "</div>"
      ],
      "text/plain": [
       "   Age Attrition     BusinessTravel              Department  DistanceFromHome  \\\n",
       "0   51        No      Travel_Rarely                   Sales                 6   \n",
       "1   31       Yes  Travel_Frequently  Research & Development                10   \n",
       "2   32        No  Travel_Frequently  Research & Development                17   \n",
       "3   38        No         Non-Travel  Research & Development                 2   \n",
       "4   32        No      Travel_Rarely  Research & Development                10   \n",
       "5   46        No      Travel_Rarely  Research & Development                 8   \n",
       "6   28       Yes      Travel_Rarely  Research & Development                11   \n",
       "7   29        No      Travel_Rarely  Research & Development                18   \n",
       "8   31        No      Travel_Rarely  Research & Development                 1   \n",
       "9   25        No         Non-Travel  Research & Development                 7   \n",
       "\n",
       "   Education EducationField  EmployeeID  Gender  JobLevel  ... MaritalStatus  \\\n",
       "0          2  Life Sciences           1  Female         1  ...       Married   \n",
       "1          1  Life Sciences           2  Female         1  ...        Single   \n",
       "2          4          Other           3    Male         4  ...       Married   \n",
       "3          5  Life Sciences           4    Male         3  ...       Married   \n",
       "4          1        Medical           5    Male         1  ...        Single   \n",
       "5          3  Life Sciences           6  Female         4  ...       Married   \n",
       "6          2        Medical           7    Male         2  ...        Single   \n",
       "7          3  Life Sciences           8    Male         2  ...       Married   \n",
       "8          3  Life Sciences           9    Male         3  ...       Married   \n",
       "9          4        Medical          10  Female         4  ...      Divorced   \n",
       "\n",
       "  YearlyIncome  NumCompaniesWorked  PercentSalaryHike  StockOptionLevel  \\\n",
       "0       131160                   1                 11                 0   \n",
       "1        41890                   0                 23                 1   \n",
       "2       193280                   1                 15                 3   \n",
       "3        83210                   3                 11                 3   \n",
       "4        23420                   4                 12                 2   \n",
       "5        40710                   3                 13                 0   \n",
       "6        58130                   2                 20                 1   \n",
       "7        31430                   2                 22                 3   \n",
       "8        20440                   0                 21                 0   \n",
       "9       134640                   1                 13                 1   \n",
       "\n",
       "   TotalWorkingYears  TrainingTimesLastYear  YearsAtCompany  \\\n",
       "0                  1                      6               1   \n",
       "1                  6                      3               5   \n",
       "2                  5                      2               5   \n",
       "3                 13                      5               8   \n",
       "4                  9                      2               6   \n",
       "5                 28                      5               7   \n",
       "6                  5                      2               0   \n",
       "7                 10                      2               0   \n",
       "8                 10                      2               9   \n",
       "9                  6                      2               6   \n",
       "\n",
       "   YearsSinceLastPromotion  YearsWithCurrManager  \n",
       "0                        0                     0  \n",
       "1                        1                     4  \n",
       "2                        0                     3  \n",
       "3                        7                     5  \n",
       "4                        0                     4  \n",
       "5                        7                     7  \n",
       "6                        0                     0  \n",
       "7                        0                     0  \n",
       "8                        7                     8  \n",
       "9                        1                     5  \n",
       "\n",
       "[10 rows x 21 columns]"
      ]
     },
     "execution_count": 25,
     "metadata": {},
     "output_type": "execute_result"
    }
   ],
   "source": [
    "data.head(10)"
   ]
  },
  {
   "cell_type": "code",
   "execution_count": 26,
   "id": "9fb77782",
   "metadata": {},
   "outputs": [],
   "source": [
    "# Creating AgeGroup from Age\n",
    "data = data.assign(AgeGroup=pd.cut(data['Age'], \n",
    "                               bins=[17, 30, 50, 61], \n",
    "                               labels=['Young', 'Adults', 'Seniors']))"
   ]
  },
  {
   "cell_type": "code",
   "execution_count": 27,
   "id": "7706b568",
   "metadata": {},
   "outputs": [],
   "source": [
    "# Creating DistanceCategory from DistanceFromHome\n",
    "data = data.assign(DistanceCategory=pd.cut(data['DistanceFromHome'], \n",
    "                               bins=[0, 10, 31], \n",
    "                               labels=['Near', 'Far']))"
   ]
  },
  {
   "cell_type": "code",
   "execution_count": 28,
   "id": "844f4051",
   "metadata": {},
   "outputs": [],
   "source": [
    "# Creating IncomeCategory from YearlyIncome\n",
    "data = data.assign(IncomeCategory=pd.cut(data['YearlyIncome'], \n",
    "                               bins=[10000, 40000, 80000, 120000, 200000], \n",
    "                               labels=['Low Income', 'Medium Income','High Income', 'Rich']))"
   ]
  },
  {
   "cell_type": "code",
   "execution_count": 29,
   "id": "cdcc6682",
   "metadata": {},
   "outputs": [],
   "source": [
    "# Creating SalaryHikeCategory from PercentSalaryHike\n",
    "data = data.assign(SalaryHikeCategory=pd.cut(data['PercentSalaryHike'], \n",
    "                               bins=[9, 15, 20, 26], \n",
    "                               labels=['Minimum', 'Moderate','Maximum']))"
   ]
  },
  {
   "cell_type": "code",
   "execution_count": 30,
   "id": "2bb55c3a",
   "metadata": {},
   "outputs": [],
   "source": [
    "# Creating ExperienceCategory from TotalWorkingYears\n",
    "data = data.assign(ExperienceCategory=pd.cut(data['TotalWorkingYears'], \n",
    "                               bins=[-1, 10, 25, 41], \n",
    "                               labels=['Low', 'Medium','High']))"
   ]
  },
  {
   "cell_type": "code",
   "execution_count": 31,
   "id": "fd28380d",
   "metadata": {},
   "outputs": [],
   "source": [
    "# Creating ExperienceInCompanyCategory from YearsAtCompany\n",
    "data = data.assign(ExperienceInCompanyCategory=pd.cut(data['YearsAtCompany'], \n",
    "                               bins=[-1, 5, 15, 41], \n",
    "                               labels=['Low', 'Medium','High']))"
   ]
  },
  {
   "cell_type": "code",
   "execution_count": 32,
   "id": "49cf1c6d",
   "metadata": {},
   "outputs": [],
   "source": [
    "# Creating promotionCategory from YearsSinceLastPromotion\n",
    "data = data.assign(promotionCategory=pd.cut(data['YearsSinceLastPromotion'], \n",
    "                               bins=[-1, 3, 5, 16], \n",
    "                               labels=['Recent', 'Few Years Back','Long Back']))\n"
   ]
  },
  {
   "cell_type": "code",
   "execution_count": 33,
   "id": "2fb1ebb9",
   "metadata": {},
   "outputs": [],
   "source": [
    "# Creating sameManagerCategory from YearsWithCurrManager\n",
    "data = data.assign(sameManagerCategory=pd.cut(data['YearsWithCurrManager'], \n",
    "                               bins=[-1, 5, 10, 18], \n",
    "                               labels=['Low', 'Medium','High']))\n"
   ]
  },
  {
   "cell_type": "markdown",
   "id": "1c662482",
   "metadata": {},
   "source": [
    "                                            Chi-Square Test"
   ]
  },
  {
   "cell_type": "code",
   "execution_count": 34,
   "id": "76e35101",
   "metadata": {},
   "outputs": [],
   "source": [
    "from scipy.stats import chi2_contingency\n",
    "def ChisquareTest(var):\n",
    "    target = 'Attrition'\n",
    "    # create contingency table\n",
    "    data_crosstab = pd.crosstab(data[var],\n",
    "                            data[target],\n",
    "                           margins=True, margins_name=\"Total\")\n",
    "    print(data_crosstab)\n",
    "    stat, p, dof, expected = chi2_contingency(data_crosstab)\n",
    "    \n",
    "    # interpret p-value\n",
    "    alpha = 0.05\n",
    "    print(\"p value is \" + str(p))\n",
    "    if p <= alpha:\n",
    "        print(var,'and',target,'are','Dependent (reject H0)')\n",
    "    else:\n",
    "        print(var,'and',target,'are','Independent (H0 holds true)')"
   ]
  },
  {
   "cell_type": "code",
   "execution_count": 35,
   "id": "b944fce2",
   "metadata": {},
   "outputs": [
    {
     "name": "stdout",
     "output_type": "stream",
     "text": [
      "Attrition            No  Yes  Total\n",
      "BusinessTravel                     \n",
      "Non-Travel          414   36    450\n",
      "Travel_Frequently   624  207    831\n",
      "Travel_Rarely      2661  468   3129\n",
      "Total              3699  711   4410\n",
      "p value is 1.2264572393247815e-13\n",
      "BusinessTravel and Attrition are Dependent (reject H0)\n",
      "Attrition                 No  Yes  Total\n",
      "Department                              \n",
      "Human Resources          132   57    189\n",
      "Research & Development  2430  453   2883\n",
      "Sales                   1137  201   1338\n",
      "Total                   3699  711   4410\n",
      "p value is 5.84897393561658e-05\n",
      "Department and Attrition are Dependent (reject H0)\n",
      "Attrition           No  Yes  Total\n",
      "EducationField                    \n",
      "Human Resources     48   33     81\n",
      "Life Sciences     1515  303   1818\n",
      "Marketing          402   75    477\n",
      "Medical           1167  225   1392\n",
      "Other              216   30    246\n",
      "Technical Degree   351   45    396\n",
      "Total             3699  711   4410\n",
      "p value is 6.421844581631005e-06\n",
      "EducationField and Attrition are Dependent (reject H0)\n",
      "Attrition    No  Yes  Total\n",
      "Gender                     \n",
      "Female     1494  270   1764\n",
      "Male       2205  441   2646\n",
      "Total      3699  711   4410\n",
      "p value is 0.8356764160313717\n",
      "Gender and Attrition are Independent (H0 holds true)\n",
      "Attrition                    No  Yes  Total\n",
      "JobRole                                    \n",
      "Healthcare Representative   336   57    393\n",
      "Human Resources             135   21    156\n",
      "Laboratory Technician       651  126    777\n",
      "Manager                     264   42    306\n",
      "Manufacturing Director      387   48    435\n",
      "Research Director           183   57    240\n",
      "Research Scientist          717  159    876\n",
      "Sales Executive             813  165    978\n",
      "Sales Representative        213   36    249\n",
      "Total                      3699  711   4410\n",
      "p value is 0.12174569127114664\n",
      "JobRole and Attrition are Independent (H0 holds true)\n",
      "Attrition        No  Yes  Total\n",
      "MaritalStatus                  \n",
      "Divorced        882   99    981\n",
      "Married        1767  252   2019\n",
      "Single         1050  360   1410\n",
      "Total          3699  711   4410\n",
      "p value is 2.0861725602157853e-27\n",
      "MaritalStatus and Attrition are Dependent (reject H0)\n",
      "Attrition    No  Yes  Total\n",
      "AgeGroup                   \n",
      "Young       858  300   1158\n",
      "Adults     2466  357   2823\n",
      "Seniors     375   54    429\n",
      "Total      3699  711   4410\n",
      "p value is 1.1602583974931013e-21\n",
      "AgeGroup and Attrition are Dependent (reject H0)\n",
      "Attrition           No  Yes  Total\n",
      "DistanceCategory                  \n",
      "Near              2577  501   3078\n",
      "Far               1122  210   1332\n",
      "Total             3699  711   4410\n",
      "p value is 0.9962038617379816\n",
      "DistanceCategory and Attrition are Independent (H0 holds true)\n",
      "Attrition         No  Yes  Total\n",
      "IncomeCategory                  \n",
      "Low Income      1359  270   1629\n",
      "Medium Income   1353  285   1638\n",
      "High Income      483   75    558\n",
      "Rich             504   81    585\n",
      "Total           3699  711   4410\n",
      "p value is 0.49107048938622566\n",
      "IncomeCategory and Attrition are Independent (H0 holds true)\n",
      "Attrition             No  Yes  Total\n",
      "SalaryHikeCategory                  \n",
      "Minimum             2325  432   2757\n",
      "Moderate             957  183   1140\n",
      "Maximum              417   96    513\n",
      "Total               3699  711   4410\n",
      "p value is 0.8126508812674836\n",
      "SalaryHikeCategory and Attrition are Independent (H0 holds true)\n",
      "Attrition             No  Yes  Total\n",
      "ExperienceCategory                  \n",
      "Low                 2225  546   2771\n",
      "Medium              1201  144   1345\n",
      "High                 273   21    294\n",
      "Total               3699  711   4410\n",
      "p value is 9.937931359997116e-14\n",
      "ExperienceCategory and Attrition are Dependent (reject H0)\n",
      "Attrition                      No  Yes  Total\n",
      "ExperienceInCompanyCategory                  \n",
      "Low                          1842  486   2328\n",
      "Medium                       1482  186   1668\n",
      "High                          375   39    414\n",
      "Total                        3699  711   4410\n",
      "p value is 8.014336371407105e-16\n",
      "ExperienceInCompanyCategory and Attrition are Dependent (reject H0)\n",
      "Attrition            No  Yes  Total\n",
      "promotionCategory                  \n",
      "Recent             2862  585   3447\n",
      "Few Years Back      297   21    318\n",
      "Long Back           540  105    645\n",
      "Total              3699  711   4410\n",
      "p value is 0.0007464007759094239\n",
      "promotionCategory and Attrition are Dependent (reject H0)\n",
      "Attrition              No  Yes  Total\n",
      "sameManagerCategory                  \n",
      "Low                  2322  540   2862\n",
      "Medium               1167  162   1329\n",
      "High                  210    9    219\n",
      "Total                3699  711   4410\n",
      "p value is 5.785819377061715e-10\n",
      "sameManagerCategory and Attrition are Dependent (reject H0)\n"
     ]
    }
   ],
   "source": [
    "#filter categorical variables\n",
    "categorical_columns = [x for x in data.dtypes.index if (data.dtypes[x] != 'int64' and \n",
    "                                                        data.dtypes[x] != 'float64')]\n",
    "\n",
    "#Exclude the target column\n",
    "categorical_columns = [x for x in categorical_columns if x not in ['Attrition']]\n",
    "\n",
    "# Do chi-square test for all categorical columns and the target variable\n",
    "for col in categorical_columns:\n",
    "    ChisquareTest(col)"
   ]
  },
  {
   "cell_type": "markdown",
   "id": "e4070872",
   "metadata": {},
   "source": [
    "From the categoric variables, Gender , JobRole , DistanceCategory  , IncomeCategory and SalaryHikeCategory do not have relation with the target variable Attrition."
   ]
  },
  {
   "cell_type": "code",
   "execution_count": 36,
   "id": "4c1b2b66",
   "metadata": {},
   "outputs": [],
   "source": [
    "# Removing irrelevant columns from the dataset befor modelling\n",
    "data.drop(['Gender', 'JobRole', 'DistanceCategory','IncomeCategory','SalaryHikeCategory'], axis=1, inplace=True)"
   ]
  },
  {
   "cell_type": "markdown",
   "id": "9cae06f6",
   "metadata": {},
   "source": [
    "                                        Creating Dummy Variables"
   ]
  },
  {
   "cell_type": "code",
   "execution_count": 37,
   "id": "0dfde016",
   "metadata": {},
   "outputs": [
    {
     "data": {
      "text/plain": [
       "Age                               int64\n",
       "Attrition                        object\n",
       "BusinessTravel                   object\n",
       "Department                       object\n",
       "DistanceFromHome                  int64\n",
       "Education                         int64\n",
       "EducationField                   object\n",
       "EmployeeID                        int64\n",
       "JobLevel                          int64\n",
       "MaritalStatus                    object\n",
       "YearlyIncome                      int64\n",
       "NumCompaniesWorked                int64\n",
       "PercentSalaryHike                 int64\n",
       "StockOptionLevel                  int64\n",
       "TotalWorkingYears                 int64\n",
       "TrainingTimesLastYear             int64\n",
       "YearsAtCompany                    int64\n",
       "YearsSinceLastPromotion           int64\n",
       "YearsWithCurrManager              int64\n",
       "AgeGroup                       category\n",
       "ExperienceCategory             category\n",
       "ExperienceInCompanyCategory    category\n",
       "promotionCategory              category\n",
       "sameManagerCategory            category\n",
       "dtype: object"
      ]
     },
     "execution_count": 37,
     "metadata": {},
     "output_type": "execute_result"
    }
   ],
   "source": [
    "data.dtypes"
   ]
  },
  {
   "cell_type": "code",
   "execution_count": 38,
   "id": "e1701dd5",
   "metadata": {},
   "outputs": [],
   "source": [
    "data = pd.get_dummies(data, columns = ['BusinessTravel','Department','EducationField','MaritalStatus','AgeGroup',\n",
    "                                'ExperienceCategory','ExperienceInCompanyCategory','promotionCategory','sameManagerCategory'])"
   ]
  },
  {
   "cell_type": "markdown",
   "id": "33bdbed7",
   "metadata": {},
   "source": [
    "Dummy variables are created for all the categorical columns listed above."
   ]
  },
  {
   "cell_type": "code",
   "execution_count": 39,
   "id": "653c2f5b",
   "metadata": {},
   "outputs": [
    {
     "data": {
      "text/html": [
       "<div>\n",
       "<style scoped>\n",
       "    .dataframe tbody tr th:only-of-type {\n",
       "        vertical-align: middle;\n",
       "    }\n",
       "\n",
       "    .dataframe tbody tr th {\n",
       "        vertical-align: top;\n",
       "    }\n",
       "\n",
       "    .dataframe thead th {\n",
       "        text-align: right;\n",
       "    }\n",
       "</style>\n",
       "<table border=\"1\" class=\"dataframe\">\n",
       "  <thead>\n",
       "    <tr style=\"text-align: right;\">\n",
       "      <th></th>\n",
       "      <th>Age</th>\n",
       "      <th>Attrition</th>\n",
       "      <th>DistanceFromHome</th>\n",
       "      <th>Education</th>\n",
       "      <th>EmployeeID</th>\n",
       "      <th>JobLevel</th>\n",
       "      <th>YearlyIncome</th>\n",
       "      <th>NumCompaniesWorked</th>\n",
       "      <th>PercentSalaryHike</th>\n",
       "      <th>StockOptionLevel</th>\n",
       "      <th>...</th>\n",
       "      <th>ExperienceCategory_High</th>\n",
       "      <th>ExperienceInCompanyCategory_Low</th>\n",
       "      <th>ExperienceInCompanyCategory_Medium</th>\n",
       "      <th>ExperienceInCompanyCategory_High</th>\n",
       "      <th>promotionCategory_Recent</th>\n",
       "      <th>promotionCategory_Few Years Back</th>\n",
       "      <th>promotionCategory_Long Back</th>\n",
       "      <th>sameManagerCategory_Low</th>\n",
       "      <th>sameManagerCategory_Medium</th>\n",
       "      <th>sameManagerCategory_High</th>\n",
       "    </tr>\n",
       "  </thead>\n",
       "  <tbody>\n",
       "    <tr>\n",
       "      <th>0</th>\n",
       "      <td>51</td>\n",
       "      <td>No</td>\n",
       "      <td>6</td>\n",
       "      <td>2</td>\n",
       "      <td>1</td>\n",
       "      <td>1</td>\n",
       "      <td>131160</td>\n",
       "      <td>1</td>\n",
       "      <td>11</td>\n",
       "      <td>0</td>\n",
       "      <td>...</td>\n",
       "      <td>0</td>\n",
       "      <td>1</td>\n",
       "      <td>0</td>\n",
       "      <td>0</td>\n",
       "      <td>1</td>\n",
       "      <td>0</td>\n",
       "      <td>0</td>\n",
       "      <td>1</td>\n",
       "      <td>0</td>\n",
       "      <td>0</td>\n",
       "    </tr>\n",
       "    <tr>\n",
       "      <th>1</th>\n",
       "      <td>31</td>\n",
       "      <td>Yes</td>\n",
       "      <td>10</td>\n",
       "      <td>1</td>\n",
       "      <td>2</td>\n",
       "      <td>1</td>\n",
       "      <td>41890</td>\n",
       "      <td>0</td>\n",
       "      <td>23</td>\n",
       "      <td>1</td>\n",
       "      <td>...</td>\n",
       "      <td>0</td>\n",
       "      <td>1</td>\n",
       "      <td>0</td>\n",
       "      <td>0</td>\n",
       "      <td>1</td>\n",
       "      <td>0</td>\n",
       "      <td>0</td>\n",
       "      <td>1</td>\n",
       "      <td>0</td>\n",
       "      <td>0</td>\n",
       "    </tr>\n",
       "    <tr>\n",
       "      <th>2</th>\n",
       "      <td>32</td>\n",
       "      <td>No</td>\n",
       "      <td>17</td>\n",
       "      <td>4</td>\n",
       "      <td>3</td>\n",
       "      <td>4</td>\n",
       "      <td>193280</td>\n",
       "      <td>1</td>\n",
       "      <td>15</td>\n",
       "      <td>3</td>\n",
       "      <td>...</td>\n",
       "      <td>0</td>\n",
       "      <td>1</td>\n",
       "      <td>0</td>\n",
       "      <td>0</td>\n",
       "      <td>1</td>\n",
       "      <td>0</td>\n",
       "      <td>0</td>\n",
       "      <td>1</td>\n",
       "      <td>0</td>\n",
       "      <td>0</td>\n",
       "    </tr>\n",
       "    <tr>\n",
       "      <th>3</th>\n",
       "      <td>38</td>\n",
       "      <td>No</td>\n",
       "      <td>2</td>\n",
       "      <td>5</td>\n",
       "      <td>4</td>\n",
       "      <td>3</td>\n",
       "      <td>83210</td>\n",
       "      <td>3</td>\n",
       "      <td>11</td>\n",
       "      <td>3</td>\n",
       "      <td>...</td>\n",
       "      <td>0</td>\n",
       "      <td>0</td>\n",
       "      <td>1</td>\n",
       "      <td>0</td>\n",
       "      <td>0</td>\n",
       "      <td>0</td>\n",
       "      <td>1</td>\n",
       "      <td>1</td>\n",
       "      <td>0</td>\n",
       "      <td>0</td>\n",
       "    </tr>\n",
       "    <tr>\n",
       "      <th>4</th>\n",
       "      <td>32</td>\n",
       "      <td>No</td>\n",
       "      <td>10</td>\n",
       "      <td>1</td>\n",
       "      <td>5</td>\n",
       "      <td>1</td>\n",
       "      <td>23420</td>\n",
       "      <td>4</td>\n",
       "      <td>12</td>\n",
       "      <td>2</td>\n",
       "      <td>...</td>\n",
       "      <td>0</td>\n",
       "      <td>0</td>\n",
       "      <td>1</td>\n",
       "      <td>0</td>\n",
       "      <td>1</td>\n",
       "      <td>0</td>\n",
       "      <td>0</td>\n",
       "      <td>1</td>\n",
       "      <td>0</td>\n",
       "      <td>0</td>\n",
       "    </tr>\n",
       "  </tbody>\n",
       "</table>\n",
       "<p>5 rows × 45 columns</p>\n",
       "</div>"
      ],
      "text/plain": [
       "   Age Attrition  DistanceFromHome  Education  EmployeeID  JobLevel  \\\n",
       "0   51        No                 6          2           1         1   \n",
       "1   31       Yes                10          1           2         1   \n",
       "2   32        No                17          4           3         4   \n",
       "3   38        No                 2          5           4         3   \n",
       "4   32        No                10          1           5         1   \n",
       "\n",
       "   YearlyIncome  NumCompaniesWorked  PercentSalaryHike  StockOptionLevel  ...  \\\n",
       "0        131160                   1                 11                 0  ...   \n",
       "1         41890                   0                 23                 1  ...   \n",
       "2        193280                   1                 15                 3  ...   \n",
       "3         83210                   3                 11                 3  ...   \n",
       "4         23420                   4                 12                 2  ...   \n",
       "\n",
       "   ExperienceCategory_High  ExperienceInCompanyCategory_Low  \\\n",
       "0                        0                                1   \n",
       "1                        0                                1   \n",
       "2                        0                                1   \n",
       "3                        0                                0   \n",
       "4                        0                                0   \n",
       "\n",
       "   ExperienceInCompanyCategory_Medium  ExperienceInCompanyCategory_High  \\\n",
       "0                                   0                                 0   \n",
       "1                                   0                                 0   \n",
       "2                                   0                                 0   \n",
       "3                                   1                                 0   \n",
       "4                                   1                                 0   \n",
       "\n",
       "   promotionCategory_Recent  promotionCategory_Few Years Back  \\\n",
       "0                         1                                 0   \n",
       "1                         1                                 0   \n",
       "2                         1                                 0   \n",
       "3                         0                                 0   \n",
       "4                         1                                 0   \n",
       "\n",
       "   promotionCategory_Long Back  sameManagerCategory_Low  \\\n",
       "0                            0                        1   \n",
       "1                            0                        1   \n",
       "2                            0                        1   \n",
       "3                            1                        1   \n",
       "4                            0                        1   \n",
       "\n",
       "   sameManagerCategory_Medium  sameManagerCategory_High  \n",
       "0                           0                         0  \n",
       "1                           0                         0  \n",
       "2                           0                         0  \n",
       "3                           0                         0  \n",
       "4                           0                         0  \n",
       "\n",
       "[5 rows x 45 columns]"
      ]
     },
     "execution_count": 39,
     "metadata": {},
     "output_type": "execute_result"
    }
   ],
   "source": [
    "data.head()"
   ]
  },
  {
   "cell_type": "code",
   "execution_count": 114,
   "id": "7153a43a",
   "metadata": {},
   "outputs": [
    {
     "name": "stdout",
     "output_type": "stream",
     "text": [
      "<class 'pandas.core.frame.DataFrame'>\n",
      "RangeIndex: 4410 entries, 0 to 4409\n",
      "Data columns (total 45 columns):\n",
      " #   Column                              Non-Null Count  Dtype \n",
      "---  ------                              --------------  ----- \n",
      " 0   Age                                 4410 non-null   int64 \n",
      " 1   Attrition                           4410 non-null   object\n",
      " 2   DistanceFromHome                    4410 non-null   int64 \n",
      " 3   Education                           4410 non-null   int64 \n",
      " 4   EmployeeID                          4410 non-null   int64 \n",
      " 5   JobLevel                            4410 non-null   int64 \n",
      " 6   YearlyIncome                        4410 non-null   int64 \n",
      " 7   NumCompaniesWorked                  4410 non-null   int64 \n",
      " 8   PercentSalaryHike                   4410 non-null   int64 \n",
      " 9   StockOptionLevel                    4410 non-null   int64 \n",
      " 10  TotalWorkingYears                   4410 non-null   int64 \n",
      " 11  TrainingTimesLastYear               4410 non-null   int64 \n",
      " 12  YearsAtCompany                      4410 non-null   int64 \n",
      " 13  YearsSinceLastPromotion             4410 non-null   int64 \n",
      " 14  YearsWithCurrManager                4410 non-null   int64 \n",
      " 15  BusinessTravel_Non-Travel           4410 non-null   uint8 \n",
      " 16  BusinessTravel_Travel_Frequently    4410 non-null   uint8 \n",
      " 17  BusinessTravel_Travel_Rarely        4410 non-null   uint8 \n",
      " 18  Department_Human Resources          4410 non-null   uint8 \n",
      " 19  Department_Research & Development   4410 non-null   uint8 \n",
      " 20  Department_Sales                    4410 non-null   uint8 \n",
      " 21  EducationField_Human Resources      4410 non-null   uint8 \n",
      " 22  EducationField_Life Sciences        4410 non-null   uint8 \n",
      " 23  EducationField_Marketing            4410 non-null   uint8 \n",
      " 24  EducationField_Medical              4410 non-null   uint8 \n",
      " 25  EducationField_Other                4410 non-null   uint8 \n",
      " 26  EducationField_Technical Degree     4410 non-null   uint8 \n",
      " 27  MaritalStatus_Divorced              4410 non-null   uint8 \n",
      " 28  MaritalStatus_Married               4410 non-null   uint8 \n",
      " 29  MaritalStatus_Single                4410 non-null   uint8 \n",
      " 30  AgeGroup_Young                      4410 non-null   uint8 \n",
      " 31  AgeGroup_Adults                     4410 non-null   uint8 \n",
      " 32  AgeGroup_Seniors                    4410 non-null   uint8 \n",
      " 33  ExperienceCategory_Low              4410 non-null   uint8 \n",
      " 34  ExperienceCategory_Medium           4410 non-null   uint8 \n",
      " 35  ExperienceCategory_High             4410 non-null   uint8 \n",
      " 36  ExperienceInCompanyCategory_Low     4410 non-null   uint8 \n",
      " 37  ExperienceInCompanyCategory_Medium  4410 non-null   uint8 \n",
      " 38  ExperienceInCompanyCategory_High    4410 non-null   uint8 \n",
      " 39  promotionCategory_Recent            4410 non-null   uint8 \n",
      " 40  promotionCategory_Few Years Back    4410 non-null   uint8 \n",
      " 41  promotionCategory_Long Back         4410 non-null   uint8 \n",
      " 42  sameManagerCategory_Low             4410 non-null   uint8 \n",
      " 43  sameManagerCategory_Medium          4410 non-null   uint8 \n",
      " 44  sameManagerCategory_High            4410 non-null   uint8 \n",
      "dtypes: int64(14), object(1), uint8(30)\n",
      "memory usage: 646.1+ KB\n"
     ]
    }
   ],
   "source": [
    "data.info()"
   ]
  },
  {
   "cell_type": "code",
   "execution_count": 40,
   "id": "e5d1313a",
   "metadata": {},
   "outputs": [],
   "source": [
    "# Drop unwanted cloumns except 'target variable'\n",
    "data.drop(['EmployeeID','Age','DistanceFromHome','YearlyIncome','PercentSalaryHike','TotalWorkingYears',\n",
    "           'YearsAtCompany','YearsSinceLastPromotion','YearsWithCurrManager'],axis=1,inplace=True)"
   ]
  },
  {
   "cell_type": "code",
   "execution_count": 41,
   "id": "95d8aa49",
   "metadata": {},
   "outputs": [],
   "source": [
    "# Separating the predictors and the target variables\n",
    "X = data.drop(columns=['Attrition'])\n",
    "y = pd.Series(data.Attrition, name = 'Attrition')"
   ]
  },
  {
   "cell_type": "code",
   "execution_count": 42,
   "id": "22fa7658",
   "metadata": {},
   "outputs": [],
   "source": [
    "#Split into training and test set for cross-validation\n",
    "from sklearn.model_selection import train_test_split,cross_val_score\n",
    "X_train,X_test,y_train,y_test = train_test_split(X,y,random_state=99,test_size=0.25)"
   ]
  },
  {
   "cell_type": "markdown",
   "id": "cb50db3e",
   "metadata": {},
   "source": [
    "The data is splitted up in to training and testing data."
   ]
  },
  {
   "cell_type": "code",
   "execution_count": 43,
   "id": "4e23521a",
   "metadata": {},
   "outputs": [
    {
     "data": {
      "text/html": [
       "<div>\n",
       "<style scoped>\n",
       "    .dataframe tbody tr th:only-of-type {\n",
       "        vertical-align: middle;\n",
       "    }\n",
       "\n",
       "    .dataframe tbody tr th {\n",
       "        vertical-align: top;\n",
       "    }\n",
       "\n",
       "    .dataframe thead th {\n",
       "        text-align: right;\n",
       "    }\n",
       "</style>\n",
       "<table border=\"1\" class=\"dataframe\">\n",
       "  <thead>\n",
       "    <tr style=\"text-align: right;\">\n",
       "      <th></th>\n",
       "      <th>Education</th>\n",
       "      <th>JobLevel</th>\n",
       "      <th>NumCompaniesWorked</th>\n",
       "      <th>StockOptionLevel</th>\n",
       "      <th>TrainingTimesLastYear</th>\n",
       "      <th>BusinessTravel_Non-Travel</th>\n",
       "      <th>BusinessTravel_Travel_Frequently</th>\n",
       "      <th>BusinessTravel_Travel_Rarely</th>\n",
       "      <th>Department_Human Resources</th>\n",
       "      <th>Department_Research &amp; Development</th>\n",
       "      <th>...</th>\n",
       "      <th>ExperienceCategory_High</th>\n",
       "      <th>ExperienceInCompanyCategory_Low</th>\n",
       "      <th>ExperienceInCompanyCategory_Medium</th>\n",
       "      <th>ExperienceInCompanyCategory_High</th>\n",
       "      <th>promotionCategory_Recent</th>\n",
       "      <th>promotionCategory_Few Years Back</th>\n",
       "      <th>promotionCategory_Long Back</th>\n",
       "      <th>sameManagerCategory_Low</th>\n",
       "      <th>sameManagerCategory_Medium</th>\n",
       "      <th>sameManagerCategory_High</th>\n",
       "    </tr>\n",
       "  </thead>\n",
       "  <tbody>\n",
       "    <tr>\n",
       "      <th>918</th>\n",
       "      <td>2</td>\n",
       "      <td>2</td>\n",
       "      <td>3</td>\n",
       "      <td>0</td>\n",
       "      <td>4</td>\n",
       "      <td>0</td>\n",
       "      <td>0</td>\n",
       "      <td>1</td>\n",
       "      <td>0</td>\n",
       "      <td>0</td>\n",
       "      <td>...</td>\n",
       "      <td>1</td>\n",
       "      <td>1</td>\n",
       "      <td>0</td>\n",
       "      <td>0</td>\n",
       "      <td>1</td>\n",
       "      <td>0</td>\n",
       "      <td>0</td>\n",
       "      <td>1</td>\n",
       "      <td>0</td>\n",
       "      <td>0</td>\n",
       "    </tr>\n",
       "    <tr>\n",
       "      <th>3639</th>\n",
       "      <td>1</td>\n",
       "      <td>1</td>\n",
       "      <td>9</td>\n",
       "      <td>0</td>\n",
       "      <td>6</td>\n",
       "      <td>1</td>\n",
       "      <td>0</td>\n",
       "      <td>0</td>\n",
       "      <td>0</td>\n",
       "      <td>1</td>\n",
       "      <td>...</td>\n",
       "      <td>0</td>\n",
       "      <td>1</td>\n",
       "      <td>0</td>\n",
       "      <td>0</td>\n",
       "      <td>1</td>\n",
       "      <td>0</td>\n",
       "      <td>0</td>\n",
       "      <td>1</td>\n",
       "      <td>0</td>\n",
       "      <td>0</td>\n",
       "    </tr>\n",
       "    <tr>\n",
       "      <th>2160</th>\n",
       "      <td>4</td>\n",
       "      <td>1</td>\n",
       "      <td>1</td>\n",
       "      <td>1</td>\n",
       "      <td>2</td>\n",
       "      <td>0</td>\n",
       "      <td>0</td>\n",
       "      <td>1</td>\n",
       "      <td>0</td>\n",
       "      <td>1</td>\n",
       "      <td>...</td>\n",
       "      <td>0</td>\n",
       "      <td>0</td>\n",
       "      <td>1</td>\n",
       "      <td>0</td>\n",
       "      <td>1</td>\n",
       "      <td>0</td>\n",
       "      <td>0</td>\n",
       "      <td>0</td>\n",
       "      <td>1</td>\n",
       "      <td>0</td>\n",
       "    </tr>\n",
       "    <tr>\n",
       "      <th>217</th>\n",
       "      <td>4</td>\n",
       "      <td>4</td>\n",
       "      <td>1</td>\n",
       "      <td>1</td>\n",
       "      <td>6</td>\n",
       "      <td>0</td>\n",
       "      <td>0</td>\n",
       "      <td>1</td>\n",
       "      <td>0</td>\n",
       "      <td>1</td>\n",
       "      <td>...</td>\n",
       "      <td>0</td>\n",
       "      <td>1</td>\n",
       "      <td>0</td>\n",
       "      <td>0</td>\n",
       "      <td>1</td>\n",
       "      <td>0</td>\n",
       "      <td>0</td>\n",
       "      <td>1</td>\n",
       "      <td>0</td>\n",
       "      <td>0</td>\n",
       "    </tr>\n",
       "    <tr>\n",
       "      <th>134</th>\n",
       "      <td>3</td>\n",
       "      <td>2</td>\n",
       "      <td>4</td>\n",
       "      <td>1</td>\n",
       "      <td>2</td>\n",
       "      <td>0</td>\n",
       "      <td>0</td>\n",
       "      <td>1</td>\n",
       "      <td>1</td>\n",
       "      <td>0</td>\n",
       "      <td>...</td>\n",
       "      <td>0</td>\n",
       "      <td>1</td>\n",
       "      <td>0</td>\n",
       "      <td>0</td>\n",
       "      <td>1</td>\n",
       "      <td>0</td>\n",
       "      <td>0</td>\n",
       "      <td>1</td>\n",
       "      <td>0</td>\n",
       "      <td>0</td>\n",
       "    </tr>\n",
       "    <tr>\n",
       "      <th>...</th>\n",
       "      <td>...</td>\n",
       "      <td>...</td>\n",
       "      <td>...</td>\n",
       "      <td>...</td>\n",
       "      <td>...</td>\n",
       "      <td>...</td>\n",
       "      <td>...</td>\n",
       "      <td>...</td>\n",
       "      <td>...</td>\n",
       "      <td>...</td>\n",
       "      <td>...</td>\n",
       "      <td>...</td>\n",
       "      <td>...</td>\n",
       "      <td>...</td>\n",
       "      <td>...</td>\n",
       "      <td>...</td>\n",
       "      <td>...</td>\n",
       "      <td>...</td>\n",
       "      <td>...</td>\n",
       "      <td>...</td>\n",
       "      <td>...</td>\n",
       "    </tr>\n",
       "    <tr>\n",
       "      <th>55</th>\n",
       "      <td>3</td>\n",
       "      <td>4</td>\n",
       "      <td>6</td>\n",
       "      <td>1</td>\n",
       "      <td>3</td>\n",
       "      <td>0</td>\n",
       "      <td>1</td>\n",
       "      <td>0</td>\n",
       "      <td>0</td>\n",
       "      <td>1</td>\n",
       "      <td>...</td>\n",
       "      <td>0</td>\n",
       "      <td>0</td>\n",
       "      <td>1</td>\n",
       "      <td>0</td>\n",
       "      <td>0</td>\n",
       "      <td>0</td>\n",
       "      <td>1</td>\n",
       "      <td>0</td>\n",
       "      <td>1</td>\n",
       "      <td>0</td>\n",
       "    </tr>\n",
       "    <tr>\n",
       "      <th>3457</th>\n",
       "      <td>2</td>\n",
       "      <td>3</td>\n",
       "      <td>5</td>\n",
       "      <td>0</td>\n",
       "      <td>2</td>\n",
       "      <td>0</td>\n",
       "      <td>0</td>\n",
       "      <td>1</td>\n",
       "      <td>0</td>\n",
       "      <td>0</td>\n",
       "      <td>...</td>\n",
       "      <td>0</td>\n",
       "      <td>1</td>\n",
       "      <td>0</td>\n",
       "      <td>0</td>\n",
       "      <td>1</td>\n",
       "      <td>0</td>\n",
       "      <td>0</td>\n",
       "      <td>1</td>\n",
       "      <td>0</td>\n",
       "      <td>0</td>\n",
       "    </tr>\n",
       "    <tr>\n",
       "      <th>1768</th>\n",
       "      <td>3</td>\n",
       "      <td>3</td>\n",
       "      <td>2</td>\n",
       "      <td>0</td>\n",
       "      <td>2</td>\n",
       "      <td>0</td>\n",
       "      <td>0</td>\n",
       "      <td>1</td>\n",
       "      <td>0</td>\n",
       "      <td>1</td>\n",
       "      <td>...</td>\n",
       "      <td>0</td>\n",
       "      <td>1</td>\n",
       "      <td>0</td>\n",
       "      <td>0</td>\n",
       "      <td>1</td>\n",
       "      <td>0</td>\n",
       "      <td>0</td>\n",
       "      <td>1</td>\n",
       "      <td>0</td>\n",
       "      <td>0</td>\n",
       "    </tr>\n",
       "    <tr>\n",
       "      <th>1737</th>\n",
       "      <td>2</td>\n",
       "      <td>1</td>\n",
       "      <td>9</td>\n",
       "      <td>0</td>\n",
       "      <td>3</td>\n",
       "      <td>0</td>\n",
       "      <td>0</td>\n",
       "      <td>1</td>\n",
       "      <td>0</td>\n",
       "      <td>1</td>\n",
       "      <td>...</td>\n",
       "      <td>0</td>\n",
       "      <td>1</td>\n",
       "      <td>0</td>\n",
       "      <td>0</td>\n",
       "      <td>1</td>\n",
       "      <td>0</td>\n",
       "      <td>0</td>\n",
       "      <td>1</td>\n",
       "      <td>0</td>\n",
       "      <td>0</td>\n",
       "    </tr>\n",
       "    <tr>\n",
       "      <th>3240</th>\n",
       "      <td>4</td>\n",
       "      <td>2</td>\n",
       "      <td>1</td>\n",
       "      <td>0</td>\n",
       "      <td>3</td>\n",
       "      <td>0</td>\n",
       "      <td>1</td>\n",
       "      <td>0</td>\n",
       "      <td>0</td>\n",
       "      <td>0</td>\n",
       "      <td>...</td>\n",
       "      <td>0</td>\n",
       "      <td>0</td>\n",
       "      <td>1</td>\n",
       "      <td>0</td>\n",
       "      <td>0</td>\n",
       "      <td>1</td>\n",
       "      <td>0</td>\n",
       "      <td>0</td>\n",
       "      <td>1</td>\n",
       "      <td>0</td>\n",
       "    </tr>\n",
       "  </tbody>\n",
       "</table>\n",
       "<p>3307 rows × 35 columns</p>\n",
       "</div>"
      ],
      "text/plain": [
       "      Education  JobLevel  NumCompaniesWorked  StockOptionLevel  \\\n",
       "918           2         2                   3                 0   \n",
       "3639          1         1                   9                 0   \n",
       "2160          4         1                   1                 1   \n",
       "217           4         4                   1                 1   \n",
       "134           3         2                   4                 1   \n",
       "...         ...       ...                 ...               ...   \n",
       "55            3         4                   6                 1   \n",
       "3457          2         3                   5                 0   \n",
       "1768          3         3                   2                 0   \n",
       "1737          2         1                   9                 0   \n",
       "3240          4         2                   1                 0   \n",
       "\n",
       "      TrainingTimesLastYear  BusinessTravel_Non-Travel  \\\n",
       "918                       4                          0   \n",
       "3639                      6                          1   \n",
       "2160                      2                          0   \n",
       "217                       6                          0   \n",
       "134                       2                          0   \n",
       "...                     ...                        ...   \n",
       "55                        3                          0   \n",
       "3457                      2                          0   \n",
       "1768                      2                          0   \n",
       "1737                      3                          0   \n",
       "3240                      3                          0   \n",
       "\n",
       "      BusinessTravel_Travel_Frequently  BusinessTravel_Travel_Rarely  \\\n",
       "918                                  0                             1   \n",
       "3639                                 0                             0   \n",
       "2160                                 0                             1   \n",
       "217                                  0                             1   \n",
       "134                                  0                             1   \n",
       "...                                ...                           ...   \n",
       "55                                   1                             0   \n",
       "3457                                 0                             1   \n",
       "1768                                 0                             1   \n",
       "1737                                 0                             1   \n",
       "3240                                 1                             0   \n",
       "\n",
       "      Department_Human Resources  Department_Research & Development  ...  \\\n",
       "918                            0                                  0  ...   \n",
       "3639                           0                                  1  ...   \n",
       "2160                           0                                  1  ...   \n",
       "217                            0                                  1  ...   \n",
       "134                            1                                  0  ...   \n",
       "...                          ...                                ...  ...   \n",
       "55                             0                                  1  ...   \n",
       "3457                           0                                  0  ...   \n",
       "1768                           0                                  1  ...   \n",
       "1737                           0                                  1  ...   \n",
       "3240                           0                                  0  ...   \n",
       "\n",
       "      ExperienceCategory_High  ExperienceInCompanyCategory_Low  \\\n",
       "918                         1                                1   \n",
       "3639                        0                                1   \n",
       "2160                        0                                0   \n",
       "217                         0                                1   \n",
       "134                         0                                1   \n",
       "...                       ...                              ...   \n",
       "55                          0                                0   \n",
       "3457                        0                                1   \n",
       "1768                        0                                1   \n",
       "1737                        0                                1   \n",
       "3240                        0                                0   \n",
       "\n",
       "      ExperienceInCompanyCategory_Medium  ExperienceInCompanyCategory_High  \\\n",
       "918                                    0                                 0   \n",
       "3639                                   0                                 0   \n",
       "2160                                   1                                 0   \n",
       "217                                    0                                 0   \n",
       "134                                    0                                 0   \n",
       "...                                  ...                               ...   \n",
       "55                                     1                                 0   \n",
       "3457                                   0                                 0   \n",
       "1768                                   0                                 0   \n",
       "1737                                   0                                 0   \n",
       "3240                                   1                                 0   \n",
       "\n",
       "      promotionCategory_Recent  promotionCategory_Few Years Back  \\\n",
       "918                          1                                 0   \n",
       "3639                         1                                 0   \n",
       "2160                         1                                 0   \n",
       "217                          1                                 0   \n",
       "134                          1                                 0   \n",
       "...                        ...                               ...   \n",
       "55                           0                                 0   \n",
       "3457                         1                                 0   \n",
       "1768                         1                                 0   \n",
       "1737                         1                                 0   \n",
       "3240                         0                                 1   \n",
       "\n",
       "      promotionCategory_Long Back  sameManagerCategory_Low  \\\n",
       "918                             0                        1   \n",
       "3639                            0                        1   \n",
       "2160                            0                        0   \n",
       "217                             0                        1   \n",
       "134                             0                        1   \n",
       "...                           ...                      ...   \n",
       "55                              1                        0   \n",
       "3457                            0                        1   \n",
       "1768                            0                        1   \n",
       "1737                            0                        1   \n",
       "3240                            0                        0   \n",
       "\n",
       "      sameManagerCategory_Medium  sameManagerCategory_High  \n",
       "918                            0                         0  \n",
       "3639                           0                         0  \n",
       "2160                           1                         0  \n",
       "217                            0                         0  \n",
       "134                            0                         0  \n",
       "...                          ...                       ...  \n",
       "55                             1                         0  \n",
       "3457                           0                         0  \n",
       "1768                           0                         0  \n",
       "1737                           0                         0  \n",
       "3240                           1                         0  \n",
       "\n",
       "[3307 rows x 35 columns]"
      ]
     },
     "execution_count": 43,
     "metadata": {},
     "output_type": "execute_result"
    }
   ],
   "source": [
    "X_train"
   ]
  },
  {
   "cell_type": "code",
   "execution_count": 44,
   "id": "1a120a74",
   "metadata": {},
   "outputs": [
    {
     "data": {
      "text/plain": [
       "918      No\n",
       "3639     No\n",
       "2160     No\n",
       "217      No\n",
       "134      No\n",
       "       ... \n",
       "55       No\n",
       "3457     No\n",
       "1768     No\n",
       "1737    Yes\n",
       "3240     No\n",
       "Name: Attrition, Length: 3307, dtype: object"
      ]
     },
     "execution_count": 44,
     "metadata": {},
     "output_type": "execute_result"
    }
   ],
   "source": [
    "y_train"
   ]
  },
  {
   "cell_type": "markdown",
   "id": "202b335a",
   "metadata": {},
   "source": [
    "                                                    MODELLING"
   ]
  },
  {
   "cell_type": "markdown",
   "id": "63f292b0",
   "metadata": {},
   "source": [
    "                                         1. *** LOGISTIC REGRESSION ***"
   ]
  },
  {
   "cell_type": "code",
   "execution_count": 45,
   "id": "67125887",
   "metadata": {},
   "outputs": [],
   "source": [
    "from sklearn.linear_model import LogisticRegression\n",
    "from sklearn.preprocessing import StandardScaler\n",
    "from sklearn.metrics import accuracy_score, confusion_matrix\n",
    "from sklearn.metrics import classification_report"
   ]
  },
  {
   "cell_type": "code",
   "execution_count": 46,
   "id": "e12e8c4c",
   "metadata": {},
   "outputs": [
    {
     "data": {
      "text/plain": [
       "LogisticRegression(max_iter=300)"
      ]
     },
     "execution_count": 46,
     "metadata": {},
     "output_type": "execute_result"
    }
   ],
   "source": [
    "#Let's create a model again using max iterations to 300\n",
    "model = LogisticRegression(max_iter=300)\n",
    "model.fit(X_train, y_train)"
   ]
  },
  {
   "cell_type": "code",
   "execution_count": 47,
   "id": "c2ed1361",
   "metadata": {},
   "outputs": [],
   "source": [
    "#Predict_proba gives the probabilities P(y=Ci|x)\n",
    "probabilities_test = model.predict_proba(X_test).round(3)\n",
    "y_predict = model.predict(X_test)"
   ]
  },
  {
   "cell_type": "code",
   "execution_count": 48,
   "id": "f76ec363",
   "metadata": {},
   "outputs": [
    {
     "name": "stdout",
     "output_type": "stream",
     "text": [
      "Accuracy Score of LR : 0.8485947416137806\n"
     ]
    }
   ],
   "source": [
    "acc_score = accuracy_score(y_test,y_predict)\n",
    "print(\"Accuracy Score of LR :\",acc_score)"
   ]
  },
  {
   "cell_type": "code",
   "execution_count": 49,
   "id": "1e5e54b8",
   "metadata": {},
   "outputs": [
    {
     "name": "stdout",
     "output_type": "stream",
     "text": [
      "K-Fold Cross validation score : 0.8460314058507321\n"
     ]
    }
   ],
   "source": [
    "crossvalscore = cross_val_score(LogisticRegression(max_iter=300),X,y,cv=4)\n",
    "Avg_crossvalscore = np.average(crossvalscore)\n",
    "print(\"K-Fold Cross validation score :\",Avg_crossvalscore)"
   ]
  },
  {
   "cell_type": "code",
   "execution_count": 50,
   "id": "849c1197",
   "metadata": {},
   "outputs": [
    {
     "name": "stdout",
     "output_type": "stream",
     "text": [
      "[[923  10]\n",
      " [157  13]]\n",
      "              precision    recall  f1-score   support\n",
      "\n",
      "          No       0.85      0.99      0.92       933\n",
      "         Yes       0.57      0.08      0.13       170\n",
      "\n",
      "    accuracy                           0.85      1103\n",
      "   macro avg       0.71      0.53      0.53      1103\n",
      "weighted avg       0.81      0.85      0.80      1103\n",
      "\n"
     ]
    }
   ],
   "source": [
    "# Creating the confusion matrix\n",
    "cm1 = confusion_matrix(y_test,y_predict)\n",
    "print(cm1)\n",
    "print(classification_report(y_test,y_predict))"
   ]
  },
  {
   "cell_type": "markdown",
   "id": "afc1cfc5",
   "metadata": {},
   "source": [
    "The accuracy of Logistic Regression is 85%. Hence its a very good model for predicting the attrition rate."
   ]
  },
  {
   "cell_type": "markdown",
   "id": "c7b19795",
   "metadata": {},
   "source": [
    "                                              2.  ******* KNN ******"
   ]
  },
  {
   "cell_type": "code",
   "execution_count": 51,
   "id": "5196e054",
   "metadata": {},
   "outputs": [],
   "source": [
    "from sklearn.neighbors import KNeighborsClassifier\n",
    "from sklearn import datasets, neighbors"
   ]
  },
  {
   "cell_type": "code",
   "execution_count": 52,
   "id": "124f3a7f",
   "metadata": {},
   "outputs": [
    {
     "name": "stdout",
     "output_type": "stream",
     "text": [
      "K-Fold Score k=  1 is: 0.9975056689342404\n",
      "K-Fold Score k=  2 is: 0.9963718820861679\n",
      "K-Fold Score k=  3 is: 0.9961451247165533\n",
      "K-Fold Score k=  4 is: 0.8773242630385488\n",
      "K-Fold Score k=  5 is: 0.8702947845804988\n",
      "K-Fold Score k=  6 is: 0.8691609977324264\n",
      "K-Fold Score k=  7 is: 0.8684807256235828\n",
      "K-Fold Score k=  8 is: 0.8539682539682539\n",
      "K-Fold Score k=  9 is: 0.8562358276643991\n",
      "K-Fold Score k=  10 is: 0.8560090702947846\n"
     ]
    }
   ],
   "source": [
    "#for no.of neighbors from 1 - 10, graph the k-fold scores\n",
    "scores = []\n",
    "for i in range(1,11,1):\n",
    "    knn = KNeighborsClassifier(n_neighbors=i, weights='uniform')\n",
    "    val = cross_val_score(knn,X,y,cv=3).mean()\n",
    "    scores.append(val)\n",
    "    print('K-Fold Score k= ' , i , 'is:', val)"
   ]
  },
  {
   "cell_type": "code",
   "execution_count": 53,
   "id": "9c2f0bc0",
   "metadata": {},
   "outputs": [
    {
     "data": {
      "image/png": "[encoded data removed]",
      "text/plain": [
       "<Figure size 432x288 with 1 Axes>"
      ]
     },
     "metadata": {},
     "output_type": "display_data"
    }
   ],
   "source": [
    "# Plot the scores for K values from 1 to 10 and chosing the neighbors using elbow plot method\n",
    "plt.scatter(range(1,11,1),scores)\n",
    "plt.xlabel('no. of neighbors')\n",
    "plt.ylabel('k-fold test scores')\n",
    "plt.show()"
   ]
  },
  {
   "cell_type": "code",
   "execution_count": 54,
   "id": "46e71c21",
   "metadata": {},
   "outputs": [
    {
     "name": "stdout",
     "output_type": "stream",
     "text": [
      "[0.87755102 0.87755102 0.87687075]\n",
      "K-Fold Cross validation score : 0.8773242630385488\n"
     ]
    }
   ],
   "source": [
    "knn = neighbors.KNeighborsClassifier(n_neighbors = 4)\n",
    "knn.fit(X_train, y_train)\n",
    "crossvalscore = cross_val_score(knn,X,y,cv=3)\n",
    "print(crossvalscore)\n",
    "Avg_crossvalscore = np.average(crossvalscore)\n",
    "print(\"K-Fold Cross validation score :\",Avg_crossvalscore)"
   ]
  },
  {
   "cell_type": "code",
   "execution_count": 55,
   "id": "7c98af2f",
   "metadata": {},
   "outputs": [
    {
     "name": "stdout",
     "output_type": "stream",
     "text": [
      "Accuracy Score of KNN : 0.85675430643699\n"
     ]
    }
   ],
   "source": [
    "#Checking accuracy of the model for given data\n",
    "y_predict = knn.predict(X_test)\n",
    "acc_score = accuracy_score(y_test,y_predict)\n",
    "print(\"Accuracy Score of KNN :\",acc_score)"
   ]
  },
  {
   "cell_type": "code",
   "execution_count": 56,
   "id": "5adcbc3f",
   "metadata": {},
   "outputs": [
    {
     "name": "stdout",
     "output_type": "stream",
     "text": [
      "[[914  19]\n",
      " [139  31]]\n",
      "              precision    recall  f1-score   support\n",
      "\n",
      "          No       0.87      0.98      0.92       933\n",
      "         Yes       0.62      0.18      0.28       170\n",
      "\n",
      "    accuracy                           0.86      1103\n",
      "   macro avg       0.74      0.58      0.60      1103\n",
      "weighted avg       0.83      0.86      0.82      1103\n",
      "\n"
     ]
    }
   ],
   "source": [
    "# Creating the confusion matrix\n",
    "cm1 = confusion_matrix(y_test,y_predict)\n",
    "print(cm1)\n",
    "print(classification_report(y_test,y_predict))"
   ]
  },
  {
   "cell_type": "markdown",
   "id": "db9dd925",
   "metadata": {},
   "source": [
    "The accuracy of KNN is 86%. Hence its a good model for predicting the attrition rate."
   ]
  },
  {
   "cell_type": "markdown",
   "id": "5a23d161",
   "metadata": {},
   "source": [
    "                                          3. ******* Random Forest *********"
   ]
  },
  {
   "cell_type": "code",
   "execution_count": 57,
   "id": "d162f3fe",
   "metadata": {},
   "outputs": [
    {
     "data": {
      "text/plain": [
       "RandomForestClassifier(n_estimators=30)"
      ]
     },
     "execution_count": 57,
     "metadata": {},
     "output_type": "execute_result"
    }
   ],
   "source": [
    "# Importing the package from library and fitting the model\n",
    "from sklearn.ensemble import RandomForestClassifier\n",
    "rfmodel = RandomForestClassifier(n_estimators=30)\n",
    "rfmodel.fit(X_train, y_train)"
   ]
  },
  {
   "cell_type": "code",
   "execution_count": 58,
   "id": "62849cfb",
   "metadata": {},
   "outputs": [
    {
     "name": "stdout",
     "output_type": "stream",
     "text": [
      "[0.99728015 0.99818676 0.99727768 0.99818512]\n",
      "K-Fold Cross validation score : 0.9977324258374702\n"
     ]
    }
   ],
   "source": [
    "# Finding the cross validation score\n",
    "crossvalscore = cross_val_score(rfmodel,X,y,cv=4)\n",
    "print(crossvalscore)\n",
    "Avg_crossvalscore = np.average(crossvalscore)\n",
    "print(\"K-Fold Cross validation score :\",Avg_crossvalscore)"
   ]
  },
  {
   "cell_type": "code",
   "execution_count": 59,
   "id": "1c38e8b7",
   "metadata": {},
   "outputs": [
    {
     "name": "stdout",
     "output_type": "stream",
     "text": [
      "Accuracy Score of Random Forest : 0.9900271985494107\n"
     ]
    }
   ],
   "source": [
    "#Checking accuracy of the model for given data\n",
    "y_predict = rfmodel.predict(X_test)\n",
    "acc_score = accuracy_score(y_test,y_predict)\n",
    "print(\"Accuracy Score of Random Forest :\",acc_score)"
   ]
  },
  {
   "cell_type": "code",
   "execution_count": 60,
   "id": "53e8bb37",
   "metadata": {},
   "outputs": [
    {
     "name": "stdout",
     "output_type": "stream",
     "text": [
      "[[933   0]\n",
      " [ 11 159]]\n",
      "              precision    recall  f1-score   support\n",
      "\n",
      "          No       0.99      1.00      0.99       933\n",
      "         Yes       1.00      0.94      0.97       170\n",
      "\n",
      "    accuracy                           0.99      1103\n",
      "   macro avg       0.99      0.97      0.98      1103\n",
      "weighted avg       0.99      0.99      0.99      1103\n",
      "\n"
     ]
    }
   ],
   "source": [
    "# Creating the confusion matrix\n",
    "cm1 = confusion_matrix(y_test,y_predict)\n",
    "print(cm1)\n",
    "print(classification_report(y_test,y_predict,zero_division=0))"
   ]
  },
  {
   "cell_type": "markdown",
   "id": "e1135bd6",
   "metadata": {},
   "source": [
    "The accuracy of Random Forest is 99%. Hence its a very good model for predicting the attrition rate."
   ]
  },
  {
   "cell_type": "markdown",
   "id": "7cc4fafc",
   "metadata": {},
   "source": [
    "                                               4. **** Adaboost ****"
   ]
  },
  {
   "cell_type": "code",
   "execution_count": 61,
   "id": "62a11832",
   "metadata": {},
   "outputs": [
    {
     "data": {
      "text/plain": [
       "AdaBoostClassifier(n_estimators=100, random_state=0)"
      ]
     },
     "execution_count": 61,
     "metadata": {},
     "output_type": "execute_result"
    }
   ],
   "source": [
    "# Importing the package from library and fitting the model\n",
    "from sklearn.ensemble import AdaBoostClassifier\n",
    "clf = AdaBoostClassifier(n_estimators=100, random_state=0)\n",
    "clf.fit(X_train, y_train)"
   ]
  },
  {
   "cell_type": "code",
   "execution_count": 62,
   "id": "629c3b72",
   "metadata": {},
   "outputs": [
    {
     "name": "stdout",
     "output_type": "stream",
     "text": [
      "[0.84224841 0.8467815  0.84936479 0.8430127 ]\n",
      "K-Fold Cross validation score : 0.8453518534667867\n"
     ]
    }
   ],
   "source": [
    "# Finding the cross validation score\n",
    "crossvalscore = cross_val_score(clf,X,y,cv=4)\n",
    "print(crossvalscore)\n",
    "Avg_crossvalscore = np.average(crossvalscore)\n",
    "print(\"K-Fold Cross validation score :\",Avg_crossvalscore)"
   ]
  },
  {
   "cell_type": "code",
   "execution_count": 63,
   "id": "4b7eb419",
   "metadata": {},
   "outputs": [
    {
     "name": "stdout",
     "output_type": "stream",
     "text": [
      "Accuracy Score of Addaboost : 0.8531278331822303\n"
     ]
    }
   ],
   "source": [
    "#Checking accuracy of the model for given data\n",
    "y_predict = clf.predict(X_test)\n",
    "acc_score = accuracy_score(y_test,y_predict)\n",
    "print(\"Accuracy Score of Addaboost :\",acc_score)"
   ]
  },
  {
   "cell_type": "code",
   "execution_count": 64,
   "id": "da37ec8d",
   "metadata": {},
   "outputs": [
    {
     "name": "stdout",
     "output_type": "stream",
     "text": [
      "[[921  12]\n",
      " [150  20]]\n",
      "              precision    recall  f1-score   support\n",
      "\n",
      "          No       0.86      0.99      0.92       933\n",
      "         Yes       0.62      0.12      0.20       170\n",
      "\n",
      "    accuracy                           0.85      1103\n",
      "   macro avg       0.74      0.55      0.56      1103\n",
      "weighted avg       0.82      0.85      0.81      1103\n",
      "\n"
     ]
    }
   ],
   "source": [
    "# Creating the confusion matrix\n",
    "cm1 = confusion_matrix(y_test,y_predict)\n",
    "print(cm1)\n",
    "print(classification_report(y_test,y_predict,zero_division=0))"
   ]
  },
  {
   "cell_type": "markdown",
   "id": "50fe93a8",
   "metadata": {},
   "source": [
    "The accuracy of Adaboost is 85%. Hence its a very good model for predicting the attrition rate."
   ]
  },
  {
   "cell_type": "markdown",
   "id": "0a990864",
   "metadata": {},
   "source": [
    "                                                    5.*** SVM ***"
   ]
  },
  {
   "cell_type": "code",
   "execution_count": 65,
   "id": "c8eebdfb",
   "metadata": {},
   "outputs": [
    {
     "data": {
      "text/plain": [
       "SVC(gamma=0.001)"
      ]
     },
     "execution_count": 65,
     "metadata": {},
     "output_type": "execute_result"
    }
   ],
   "source": [
    "from sklearn import datasets, svm, metrics\n",
    "\n",
    "# Create a classifier: a support vector classifier\n",
    "classifier = svm.SVC(kernel = 'rbf', gamma=0.001)\n",
    "\n",
    "# We learn by fitting the model\n",
    "classifier.fit(X_train, y_train)"
   ]
  },
  {
   "cell_type": "code",
   "execution_count": 66,
   "id": "853a5df7",
   "metadata": {},
   "outputs": [
    {
     "name": "stdout",
     "output_type": "stream",
     "text": [
      "[0.83862194 0.83862194 0.83938294 0.8384755 ]\n",
      "K-Fold Cross validation score : 0.8387755798819586\n"
     ]
    }
   ],
   "source": [
    "# Finding the cross validation score\n",
    "crossvalscore = cross_val_score(classifier,X,y,cv=4)\n",
    "print(crossvalscore)\n",
    "Avg_crossvalscore = np.average(crossvalscore)\n",
    "print(\"K-Fold Cross validation score :\",Avg_crossvalscore)"
   ]
  },
  {
   "cell_type": "code",
   "execution_count": 67,
   "id": "f791984e",
   "metadata": {},
   "outputs": [
    {
     "name": "stdout",
     "output_type": "stream",
     "text": [
      "Accuracy Score of SVM : 0.8458748866727108\n"
     ]
    }
   ],
   "source": [
    "#Checking accuracy of the model for given data\n",
    "y_predict = classifier.predict(X_test)\n",
    "acc_score = accuracy_score(y_test,y_predict)\n",
    "print(\"Accuracy Score of SVM :\",acc_score)"
   ]
  },
  {
   "cell_type": "code",
   "execution_count": 68,
   "id": "73a8f8e5",
   "metadata": {},
   "outputs": [
    {
     "name": "stdout",
     "output_type": "stream",
     "text": [
      "[[933   0]\n",
      " [170   0]]\n",
      "              precision    recall  f1-score   support\n",
      "\n",
      "          No       0.85      1.00      0.92       933\n",
      "         Yes       0.00      0.00      0.00       170\n",
      "\n",
      "    accuracy                           0.85      1103\n",
      "   macro avg       0.42      0.50      0.46      1103\n",
      "weighted avg       0.72      0.85      0.78      1103\n",
      "\n"
     ]
    }
   ],
   "source": [
    "# Creating the confusion matrix\n",
    "cm1 = confusion_matrix(y_test,y_predict)\n",
    "print(cm1)\n",
    "print(classification_report(y_test,y_predict,zero_division=0))"
   ]
  },
  {
   "cell_type": "markdown",
   "id": "1df74cac",
   "metadata": {},
   "source": [
    "Even though the accuracy is 85%, its bad model since it could ot predict the Attrition \"Yes\" class correctly."
   ]
  },
  {
   "cell_type": "code",
   "execution_count": null,
   "id": "bf7db4d9",
   "metadata": {},
   "outputs": [],
   "source": []
  }
 ],
 "metadata": {
  "kernelspec": {
   "display_name": "Python 3",
   "language": "python",
   "name": "python3"
  },
  "language_info": {
   "codemirror_mode": {
    "name": "ipython",
    "version": 3
   },
   "file_extension": ".py",
   "mimetype": "text/x-python",
   "name": "python",
   "nbconvert_exporter": "python",
   "pygments_lexer": "ipython3",
   "version": "3.8.8"
  }
 },
 "nbformat": 4,
 "nbformat_minor": 5
}
